{
 "cells": [
  {
   "attachments": {},
   "cell_type": "markdown",
   "metadata": {},
   "source": [
    "# operaciones con arrays\n",
    "Existen diferentes operaciones que se pueden usar para los arras de numpy\n",
    "\n",
    "### duplicar los valores de una lista\n",
    "Dada la lista $\\rightarrow$ `lista = [1,2]`\n",
    "\n",
    "*multiplicar los valores de la lista por 2*\n",
    "* sin numpy: `lista = [1, 2]` $\\rightarrow$ `lista * 2` $\\rightarrow$ `[1,2,1,2]`\n",
    "  * esto **NO es lo que buscamos**. Aquí lo que se hace es concatenar un ser extra del mismo array\n",
    "    * python entiende que se quieren multiplicar los valores. Pero de manera literal, no matemática   \n",
    "/\n",
    "  * para hacerlo sin nunmpy lo que tendríamos que hacer es una list comprehension que multiplique cada número \n",
    "  \n",
    "    `[i*2 for i in lista]`\n",
    "* con numpy: esta tarea es más \"sencilla\". Dada la lista definida en un array, simplemente lo multiplicamos directamente * 2, tal como habíamos intentado anteriormente\n",
    "\n",
    "\n"
   ]
  },
  {
   "cell_type": "code",
   "execution_count": 2,
   "metadata": {},
   "outputs": [],
   "source": [
    "import numpy as np"
   ]
  },
  {
   "cell_type": "code",
   "execution_count": 17,
   "metadata": {},
   "outputs": [
    {
     "name": "stdout",
     "output_type": "stream",
     "text": [
      "  sin numpy, concatena los elementos con el mismo set: lista * 2 = [1, 2, 1, 2]\n",
      "  con numpy opera los elementos: array_lista * 2 = [2 4]\n"
     ]
    }
   ],
   "source": [
    "lista= [1,2]\n",
    "array_lista = np.array(lista) # transformar la lista en un array\n",
    "\n",
    "#multiplicación\n",
    "array_lista * 2\n",
    "\n",
    "print(f'  sin numpy, concatena los elementos con el mismo set: lista * 2 = {lista *2}\\n',\n",
    "      f' con numpy opera los elementos: array_lista * 2 = {array_lista *2}')\n"
   ]
  },
  {
   "cell_type": "code",
   "execution_count": 35,
   "metadata": {},
   "outputs": [
    {
     "name": "stdout",
     "output_type": "stream",
     "text": [
      " vector original: [[1 2 3 4]] vector *2 : [[2 4 6 8]]\n"
     ]
    }
   ],
   "source": [
    "# multiplicar elementos dentro de un vector\n",
    "vector = np.array([np.linspace(1,4,4)], dtype= int)\n",
    "\n",
    "print(f' vector original: {vector} vector *2 : {vector*2}')"
   ]
  },
  {
   "cell_type": "code",
   "execution_count": 38,
   "metadata": {},
   "outputs": [
    {
     "name": "stdout",
     "output_type": "stream",
     "text": [
      " matriz original: \n",
      " [[1 2 3 4]\n",
      " [5 6 7 8]] \n",
      " *** \n",
      " matriz *2:  \n",
      " [[ 2  4  6  8]\n",
      " [10 12 14 16]]\n"
     ]
    }
   ],
   "source": [
    "# multiplicar elementos dentro de una matriz\n",
    "matriz = np.array([np.linspace(1,4,4), np.linspace(5,8,4)], dtype= int)\n",
    "\n",
    "print(f' matriz original: \\n {matriz} \\n *** \\n matriz *2:  \\n {matriz*2}')"
   ]
  },
  {
   "cell_type": "code",
   "execution_count": 61,
   "metadata": {},
   "outputs": [],
   "source": [
    "# multiplicar elementos dentro de un tensor\n",
    "tensor = np.array([\n",
    "                    [np.linspace(1,4,4), np.linspace(5,8,4)],\n",
    "                    [np.linspace(9,12,4), np.linspace(13,16,4)],\n",
    "                    [np.linspace(17,20,4), np.linspace(21,24,4)],\n",
    "                  ], dtype= int)\n",
    "\n",
    "#print(f' tensor original: \\n {tensor}\\n *** \\n tensor *2 : \\n{tensor*2}')"
   ]
  },
  {
   "cell_type": "code",
   "execution_count": 60,
   "metadata": {},
   "outputs": [
    {
     "data": {
      "text/plain": [
       "array([[ 1,  4,  9, 16]])"
      ]
     },
     "execution_count": 60,
     "metadata": {},
     "output_type": "execute_result"
    }
   ],
   "source": [
    "# elevar un vector al cuadrado\n",
    "cuadrado = vector **2\n",
    "cuadrado"
   ]
  },
  {
   "attachments": {},
   "cell_type": "markdown",
   "metadata": {},
   "source": [
    "### operaciones matemáticas entre vectores , entre matrices , entre tensores\n",
    "\n",
    "cada uno de las operaciones hechas entre cada uno de los array de distintas dimensiones puede aplicarse a los demás\n",
    " "
   ]
  },
  {
   "cell_type": "code",
   "execution_count": 83,
   "metadata": {},
   "outputs": [],
   "source": [
    "#definimos los array para operarlos entre si\n",
    "\n",
    "#vectores\n",
    "vector_1 = np.arange(1,5)\n",
    "vector_2 = np.arange(5,9)\n",
    "\n",
    "#matrices\n",
    "matriz_1 = vector_1.reshape(2,2)\n",
    "matriz_2 = vector_2.reshape(2,2)\n",
    "\n",
    "#tensores\n",
    "tensor_1 =  np.array([matriz, matriz])\n",
    "tensor_2 = np.array([matriz, matriz])\n"
   ]
  },
  {
   "cell_type": "code",
   "execution_count": 86,
   "metadata": {},
   "outputs": [
    {
     "name": "stdout",
     "output_type": "stream",
     "text": [
      " suma entre vectores: [ 6  8 10 12]\n",
      " resta entre matrices:\n",
      " [[-4 -4]\n",
      " [-4 -4]]\n",
      " ***\n",
      "  multiplicación entre tensores: \n",
      "[[[ 1  4]\n",
      "  [ 9 16]]\n",
      "\n",
      " [[ 1  4]\n",
      "  [ 9 16]]]\n",
      "***\n",
      " división entre matrices:\n",
      " [[0.2        0.33333333]\n",
      " [0.42857143 0.5       ]]\n"
     ]
    }
   ],
   "source": [
    "\n",
    "suma_vector = vector_1 + vector_2\n",
    "resta_matriz = matriz_1 - matriz_2\n",
    "mult_tensor = tensor_1 * tensor_2\n",
    "div_matriz = matriz_1 / matriz_2\n",
    "\n",
    "print(f' suma entre vectores: {suma_vector}\\n',\n",
    "      f'resta entre matrices:\\n {resta_matriz}\\n ***\\n',\n",
    "      f' multiplicación entre tensores: \\n{mult_tensor}\\n***\\n',\n",
    "      f'división entre matrices:\\n {div_matriz}')\n"
   ]
  },
  {
   "attachments": {},
   "cell_type": "markdown",
   "metadata": {},
   "source": [
    "## producto interno / producto punto entre matrices\n",
    "\n",
    " una operación importante es la de punto por punto, la podemos hacer con la función `np.matmul()`\n",
    "\n",
    " **cuando ambas matrices no son cuadradas**, no es posible hacer el producto interno entre ellas de manera directa.\n",
    "  * para poder hacer un producto punto entre matrices no cuadradas *(producto interno)* es necesario transponer una de las matrices para que las filas de una matriz tengan la misma cantidad de valores que las columnas de la otra \n",
    "    * La razón de esto es porque el número de filas deben hacer match con el número de columnas de la otra matriz\n",
    "\n",
    "El producto interno también puede hacerse entre una matriz y un vector, solo debe tener la misma cantidad de columnas que la cantidad de filas de la matriz\n",
    "\n",
    "Otra manera de calcular el producto interno entre matrices es con el operador `@` siendo: `matriz_1 @ matriz_2`\n",
    "\n",
    "**NOTA** Al calcular el producto interno entre matrices cuadradas, no es necesario transponer, si se hace es posible que el resultado esté mal"
   ]
  },
  {
   "cell_type": "code",
   "execution_count": 93,
   "metadata": {},
   "outputs": [
    {
     "data": {
      "text/plain": [
       "array([17, 23])"
      ]
     },
     "execution_count": 93,
     "metadata": {},
     "output_type": "execute_result"
    }
   ],
   "source": [
    "np.matmul(matriz_2, np.array([1,2]).T)"
   ]
  },
  {
   "cell_type": "code",
   "execution_count": 88,
   "metadata": {},
   "outputs": [
    {
     "data": {
      "text/plain": [
       "array([[19, 22],\n",
       "       [43, 50]])"
      ]
     },
     "execution_count": 88,
     "metadata": {},
     "output_type": "execute_result"
    }
   ],
   "source": [
    "#con matrices cuadradas no es necesario transponer\n",
    "np.matmul(matriz_1, matriz_2)"
   ]
  },
  {
   "cell_type": "code",
   "execution_count": 94,
   "metadata": {},
   "outputs": [
    {
     "data": {
      "text/plain": [
       "array([[19, 22],\n",
       "       [43, 50]])"
      ]
     },
     "execution_count": 94,
     "metadata": {},
     "output_type": "execute_result"
    }
   ],
   "source": [
    "producto_punto = matriz_1 @ matriz_2\n",
    "producto_punto"
   ]
  },
  {
   "attachments": {},
   "cell_type": "markdown",
   "metadata": {},
   "source": [
    "### producto punto != multiplicación entre matrices\n",
    "\n",
    "La multiplicación entre matrices consiste en una multiplicación entre valores ubicados en la misma posición (como en la suma) "
   ]
  },
  {
   "cell_type": "code",
   "execution_count": null,
   "metadata": {},
   "outputs": [],
   "source": []
  },
  {
   "attachments": {},
   "cell_type": "markdown",
   "metadata": {},
   "source": [
    "Otra manera de calcular el producto punto es usando `matriz_1.dot(matriz_2.T)` "
   ]
  },
  {
   "attachments": {},
   "cell_type": "markdown",
   "metadata": {},
   "source": [
    "### producto punto != multiplicación entre matrices "
   ]
  },
  {
   "cell_type": "code",
   "execution_count": 51,
   "metadata": {},
   "outputs": [
    {
     "name": "stdout",
     "output_type": "stream",
     "text": [
      "[[0 1 2]\n",
      " [3 4 5]] \n",
      "\n",
      " [[ 6  7  8]\n",
      " [ 9 10 11]]\n"
     ]
    }
   ],
   "source": [
    "matriz_a = np.arange(0,6).reshape(2,3)\n",
    "matriz_b = np.arange(6,12).reshape(2,3)\n",
    "\n",
    "print(matriz_a, \"\\n\\n\", matriz_b )"
   ]
  },
  {
   "cell_type": "code",
   "execution_count": 49,
   "metadata": {},
   "outputs": [
    {
     "name": "stdout",
     "output_type": "stream",
     "text": [
      " producto punto: \n",
      " usando .dot: \n",
      " [[ 23  32]\n",
      " [ 86 122]] \n",
      " usando matmul: \n",
      "[[ 23  32]\n",
      " [ 86 122]]  \n",
      " multiplicación entre matrices: \n",
      " [[ 0  7 16]\n",
      " [27 40 55]]\n"
     ]
    }
   ],
   "source": [
    "dot = matriz_a.dot(matriz_b.T)\n",
    "matmul = np.matmul(matriz_a, matriz_b.T)\n",
    "\n",
    "mult = matriz_a * matriz_b\n",
    "\n",
    "print(f' producto punto: \\n usando .dot: \\n {dot} \\n usando matmul: \\n{matmul}',\n",
    "      f' \\n multiplicación entre matrices: \\n {mult}')"
   ]
  },
  {
   "attachments": {},
   "cell_type": "markdown",
   "metadata": {},
   "source": [
    "#### multiplicación entre matrices\n",
    "fila1 * fila 1\n",
    "\n",
    "elemento (1,1) $\\rightarrow 0 * 6 = 0$\n",
    "\n",
    "elemento (1,2) $\\rightarrow 1 * 7 = 7$\n",
    "\n",
    "elemento (1,3) $\\rightarrow 2 * 8 = 16$\n",
    "\n",
    "*lo mismo con fila2 x fila 2*\n",
    "\n",
    "### producto interno entre matrices\n",
    "\n",
    "elemento (1,1) $\\rightarrow 0*6 + 1*7 + 2*8 = 23$ \n",
    "*  fila1 * columna 1\n",
    "\n",
    "elemento (1,2) $\\rightarrow 0*9 + 1*10 + 2*11 = 32$ \n",
    "* fila 1 * columna 2\n",
    "\n",
    "elemento (2,1) $\\rightarrow 3*6 + 4*7 + 5*8 = 86$ \n",
    "* fila 2 * columna 1\n",
    "\n",
    "elemento (2,2) $\\rightarrow 3*9 + 4*10 + 5*11 = 122$ \n",
    "* fila 2 * columna 2"
   ]
  },
  {
   "cell_type": "code",
   "execution_count": null,
   "metadata": {},
   "outputs": [],
   "source": []
  }
 ],
 "metadata": {
  "kernelspec": {
   "display_name": "python_projects",
   "language": "python",
   "name": "python3"
  },
  "language_info": {
   "codemirror_mode": {
    "name": "ipython",
    "version": 3
   },
   "file_extension": ".py",
   "mimetype": "text/x-python",
   "name": "python",
   "nbconvert_exporter": "python",
   "pygments_lexer": "ipython3",
   "version": "3.9.16"
  },
  "orig_nbformat": 4
 },
 "nbformat": 4,
 "nbformat_minor": 2
}
