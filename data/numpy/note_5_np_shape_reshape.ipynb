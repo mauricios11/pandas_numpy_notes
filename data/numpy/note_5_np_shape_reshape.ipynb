{
 "cells": [
  {
   "attachments": {},
   "cell_type": "markdown",
   "metadata": {},
   "source": [
    "# shape reshape : formas de un array\n",
    "\n",
    "Hay dos funciones muy importantes para usar en los arrays `shape, reshape` \n",
    "* la forma de un array nos va a decir con qué estructura está trajando: (tamaño, manipular, ingresar)"
   ]
  },
  {
   "attachments": {},
   "cell_type": "markdown",
   "metadata": {},
   "source": [
    "### shape\n",
    " indica la forma del array usando el keyword `.shape`"
   ]
  },
  {
   "cell_type": "code",
   "execution_count": 1,
   "metadata": {},
   "outputs": [],
   "source": [
    "import numpy as np"
   ]
  },
  {
   "cell_type": "code",
   "execution_count": 5,
   "metadata": {},
   "outputs": [
    {
     "name": "stdout",
     "output_type": "stream",
     "text": [
      " array de 5 elementos entre 1 y 10: [ 1.    3.25  5.5   7.75 10.  ] \n",
      " shape: (5,)\n"
     ]
    }
   ],
   "source": [
    "# definir un vector de número entre 1 y 10 con un largo de 5\n",
    "a = np.array(np.linspace(1,10,5))\n",
    "print(f' array de 5 elementos entre 1 y 10: {a} \\n shape: {a.shape}')"
   ]
  },
  {
   "cell_type": "code",
   "execution_count": 17,
   "metadata": {},
   "outputs": [
    {
     "name": "stdout",
     "output_type": "stream",
     "text": [
      " matriz (3,2) con 0s: \n",
      "[[0. 0.]\n",
      " [0. 0.]\n",
      " [0. 0.]] \n",
      " shape: (3, 2)\n"
     ]
    }
   ],
   "source": [
    "# definir una matriz con ceros con una estructura de (3f ,2c)\n",
    "b = np.array(np.zeros((3, 2)))\n",
    "print(f' matriz (3,2) con 0s: \\n{b} \\n shape: {b.shape}')"
   ]
  },
  {
   "cell_type": "code",
   "execution_count": null,
   "metadata": {},
   "outputs": [],
   "source": []
  },
  {
   "attachments": {},
   "cell_type": "markdown",
   "metadata": {},
   "source": [
    "### reshape()\n",
    " Cambia el *shape* que tenemos establecido en el array, tal que todos sus elementos puede acomodarse en el nuevo shape\n",
    " * el reshape debe mantener a todos los elementos del array, sin que haya más ó menos espacios\n",
    "\n",
    "Existen dos métodos para hacer el reshape:\n",
    "* (1) desde la variable que contiene el array, invocamos al `.reshape()` sus argumentos son: \n",
    "    * el \"shape\": las dimensiones compatibles con el array\n",
    "    * `order = ` se ordenan los elementos según los paradigmas de `C, A, F` (no obligatorio)\n",
    "     * `A` es el predeterminado del sistema (donde estamos trabando) puede ser *\"F-C\"*\n",
    "     * `C` se ordenan según lo haría el lenguaje `C`\n",
    "        * el lenguaje C ordena **por filas**: \n",
    "          * toma los elementos que quepan en una fila y los coloca ahí, después va a la siguiente fila y coloca los demás\n",
    "     * `F` se ordenan según lo haría el lenguaje `Fortran`\n",
    "        * el lenguaje Fortrand ordena los elementos **por columnas**:\n",
    "          * de arriba hacia abajo va tomando los elementos y los va colocando, cuando se llena una columna empieza con el elemento que quede más arriba y continúa hacia abajo hasta llenar la nueva columna, hasta ordenar todos los números \n",
    "\n",
    "     así: `array.reshape(2,3, order = 'C')`\n",
    "\n",
    "* (2) colocamos a la variable que contiene el array como uno de sus argumentos, de esta forma:\n",
    "  * array\n",
    "  * nuevo *shape* en una tupla (condimensiones compatibles con el array)\n",
    "  * `order =` \n",
    "\n",
    "  así : `np.reshape(array, (2,3), order = 'F')`\n",
    "\n",
    "#### ¿Cómo encontrar un shape compatible con el array? \n",
    "Dado un array con shape (2,3) podemos considerarlos como una multiplicación $2*3 =6$ \n",
    " * por lo que un *shape* compatible podría ser uno que también de $=6$ como $1*6 = 6\\space$  ò  $\\space 3*2=6$\n",
    " * **conclusión**: hay que encontrar dos números que al multiplicarlos den igual al producto del shape $2*3$ \n",
    "    * los cuales serían $2*3 \\space$ , $\\space 1*6$ porque ambos dan como resultado $6$\n",
    "   \n",
    "**NOTA**: A la hora definir cómo se estarán ordenando los elementos, lo más recomendado es usar \"C\" ya que este lenguaje es la base de python. Al usar \"A\" podríamos perder el control de cómo se estarían ordenando los valores"
   ]
  },
  {
   "cell_type": "code",
   "execution_count": 56,
   "metadata": {},
   "outputs": [
    {
     "name": "stdout",
     "output_type": "stream",
     "text": [
      " array: [ 0.   2.5  5.   7.5 10. ] shape: (5,)\n"
     ]
    }
   ],
   "source": [
    "# array con con números del 0 al 10 con 5 elementos\n",
    "array = np.array(np.linspace(0,10,5))\n",
    "print(f' array: {array} shape: {array.shape}')\n",
    "\n",
    "#hacemos un reshape, pasandolo a vector columna\n",
    "array_reshape_1 = array.reshape(5,1)                    # método uno\n",
    "array_reshape_2 = np.reshape(array, (5, 1), order= 'F') # método dos "
   ]
  },
  {
   "cell_type": "code",
   "execution_count": 55,
   "metadata": {},
   "outputs": [
    {
     "name": "stdout",
     "output_type": "stream",
     "text": [
      "\n",
      " reshape 1: \n",
      " [[ 0. ]\n",
      " [ 2.5]\n",
      " [ 5. ]\n",
      " [ 7.5]\n",
      " [10. ]] shape: (5, 1)\n",
      "\n",
      " reshape 2: \n",
      " [[ 0. ]\n",
      " [ 2.5]\n",
      " [ 5. ]\n",
      " [ 7.5]\n",
      " [10. ]] shape: (5, 1)\n"
     ]
    }
   ],
   "source": [
    "print(f'\\n reshape 1: \\n {array_reshape_1} shape: {array_reshape_1.shape}')\n",
    "print(f'\\n reshape 2: \\n {array_reshape_2} shape: {array_reshape_2.shape}')"
   ]
  },
  {
   "attachments": {},
   "cell_type": "markdown",
   "metadata": {},
   "source": [
    "practicando con reshape:"
   ]
  },
  {
   "cell_type": "code",
   "execution_count": 60,
   "metadata": {},
   "outputs": [
    {
     "name": "stdout",
     "output_type": "stream",
     "text": [
      " array_random: \n",
      "[[6 5]\n",
      " [1 1]\n",
      " [4 4]] \n",
      " shape: (3, 2)\n"
     ]
    }
   ],
   "source": [
    "array_random = np.random.randint(1,10,(3,2))\n",
    "array_random\n",
    "print(f' array_random: \\n{array_random} \\n shape: {array_random.shape}')"
   ]
  },
  {
   "attachments": {},
   "cell_type": "markdown",
   "metadata": {},
   "source": [
    "ordenar los elementos del array según \"fortrand\" ó \"C\""
   ]
  },
  {
   "cell_type": "code",
   "execution_count": 67,
   "metadata": {},
   "outputs": [
    {
     "data": {
      "text/plain": [
       "array([[6, 4, 1],\n",
       "       [1, 5, 4]])"
      ]
     },
     "execution_count": 67,
     "metadata": {},
     "output_type": "execute_result"
    }
   ],
   "source": [
    "array_random.reshape(2,3, order=\"F\") #ordenar los elementos al estilo Fortrand"
   ]
  },
  {
   "cell_type": "code",
   "execution_count": 69,
   "metadata": {},
   "outputs": [
    {
     "data": {
      "text/plain": [
       "array([[6, 5, 1],\n",
       "       [1, 4, 4]])"
      ]
     },
     "execution_count": 69,
     "metadata": {},
     "output_type": "execute_result"
    }
   ],
   "source": [
    "np.reshape(array_random, (2,3), \"C\") #ordenar los elementos al estilo C"
   ]
  },
  {
   "cell_type": "code",
   "execution_count": null,
   "metadata": {},
   "outputs": [],
   "source": []
  }
 ],
 "metadata": {
  "kernelspec": {
   "display_name": "python_projects",
   "language": "python",
   "name": "python3"
  },
  "language_info": {
   "codemirror_mode": {
    "name": "ipython",
    "version": 3
   },
   "file_extension": ".py",
   "mimetype": "text/x-python",
   "name": "python",
   "nbconvert_exporter": "python",
   "pygments_lexer": "ipython3",
   "version": "3.9.16"
  },
  "orig_nbformat": 4
 },
 "nbformat": 4,
 "nbformat_minor": 2
}
