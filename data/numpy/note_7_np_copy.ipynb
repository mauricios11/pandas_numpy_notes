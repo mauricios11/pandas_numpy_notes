{
 "cells": [
  {
   "attachments": {},
   "cell_type": "markdown",
   "metadata": {},
   "source": [
    "# función .copy( )\n",
    "\n",
    "Esta función nos permite copiar un array de numpy en otra variable tal que al modificar el nuevo array, los cambios no se vean reflejados en el array original\n",
    "\n",
    "\n"
   ]
  },
  {
   "cell_type": "code",
   "execution_count": 1,
   "metadata": {},
   "outputs": [],
   "source": [
    "import numpy as np"
   ]
  },
  {
   "cell_type": "code",
   "execution_count": 19,
   "metadata": {},
   "outputs": [
    {
     "name": "stdout",
     "output_type": "stream",
     "text": [
      " array: [ 1  2  3  4  5  6  7  8  9 10] pedazo del array: [2 3 4 5 6]\n"
     ]
    },
    {
     "data": {
      "text/plain": [
       "array([0, 0, 0, 0, 0, 0, 0, 0, 0, 0])"
      ]
     },
     "execution_count": 19,
     "metadata": {},
     "output_type": "execute_result"
    }
   ],
   "source": [
    "# array con un rango del 1-11\n",
    "array = np.arange(1,11)\n",
    "\n",
    "# tomamos un trozo del array, teniendo en cuenta sus índices, sin contar el límite\n",
    "array_piece = array[1:6]\n",
    "\n",
    "print(f' array: {array} pedazo del array: {array_piece}')\n",
    "\n",
    "# cambiamos todos los elementos a 0\n",
    "array[:] = 0\n",
    "array"
   ]
  },
  {
   "attachments": {},
   "cell_type": "markdown",
   "metadata": {},
   "source": [
    "Podemos observar que el array original se ha modificado. \n",
    "* Quizás no es lo que queremos porque podríamos estar cambiando datos útiles en el futuro. Para evitarlo hacemos una copia del array original usando la función `.copy()`"
   ]
  },
  {
   "cell_type": "code",
   "execution_count": 29,
   "metadata": {},
   "outputs": [
    {
     "name": "stdout",
     "output_type": "stream",
     "text": [
      " original sin cambios: [ 1  2  3  4  5  6  7  8  9 10] \n",
      " la copia se ha modificado: [ 1  0  0  0  0  0  7  8  9 10] \n",
      " pedazo de la copia (aquí se hizo la modificación): [0 0 0 0 0] \n"
     ]
    }
   ],
   "source": [
    "# array con un rango del 1-11\n",
    "array = np.arange(1,11)\n",
    "array_copy = array.copy()\n",
    "\n",
    "# cambiamos los elementos en índices 1-5 a 0 de la copia \n",
    "array_piece = array_copy[1:6]\n",
    "array_piece[:] = 0\n",
    "\n",
    "print(f' original sin cambios: {array} \\n la copia se ha modificado: {array_copy}',\n",
    "      f'\\n pedazo de la copia (aquí se hizo la modificación): {array_piece} ')"
   ]
  },
  {
   "attachments": {},
   "cell_type": "markdown",
   "metadata": {},
   "source": [
    "Esta función será de ayuda para prevenir errores, y poder modificar los datos que necesitemos para cálculos necesarios. Sin modificar el dataset original \n",
    "\n",
    "* **conclusión**: cada vez que vayamos a hacer modificaciones al array original, sacando trozos, ejecutando cálculos, etc. Es importante hacer una copia del original antes de empezar a trabajar con él"
   ]
  },
  {
   "cell_type": "code",
   "execution_count": null,
   "metadata": {},
   "outputs": [],
   "source": []
  }
 ],
 "metadata": {
  "kernelspec": {
   "display_name": "python_projects",
   "language": "python",
   "name": "python3"
  },
  "language_info": {
   "codemirror_mode": {
    "name": "ipython",
    "version": 3
   },
   "file_extension": ".py",
   "mimetype": "text/x-python",
   "name": "python",
   "nbconvert_exporter": "python",
   "pygments_lexer": "ipython3",
   "version": "3.9.16"
  },
  "orig_nbformat": 4
 },
 "nbformat": 4,
 "nbformat_minor": 2
}
