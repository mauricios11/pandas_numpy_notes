{
 "cells": [
  {
   "attachments": {},
   "cell_type": "markdown",
   "metadata": {},
   "source": [
    "# Funciones principales de numpy\n",
    "\n",
    "### np.max( )\n",
    "Sirve para encontrar el valor más grande presente en el array. también podría expresarse como: `array.max()`  \n",
    "\n",
    "podría tener como parámetro especificando si la búsqueda se hará por:\n",
    "* **filas (0)**\n",
    "* **columnas (1)**\n",
    "\n",
    "\n",
    "### np.argmax( )\n",
    "Sirve para ubicar el mayor valor por su número de índice en el array. No muestra el valor en cuestión sino su ubicación.\n",
    "si colocamos como argumento en la función `np.argmax(array, 0)`: \n",
    "* estamos ubicando la posición de índice del mayor **valor en columnas**\n",
    "\n",
    "Si colocamos como argumento en la función `np.argmax(array, 1)`:\n",
    "* estamos ubicando la posicíon de índice del mayor **valor en filas**\n",
    "\n"
   ]
  },
  {
   "cell_type": "code",
   "execution_count": 1,
   "metadata": {},
   "outputs": [],
   "source": [
    "import numpy as np"
   ]
  },
  {
   "cell_type": "code",
   "execution_count": 2,
   "metadata": {},
   "outputs": [
    {
     "name": "stdout",
     "output_type": "stream",
     "text": [
      " array: \n",
      " [[2 6 9]\n",
      " [1 1 3]] \n",
      "shape: (2, 3)\n"
     ]
    }
   ],
   "source": [
    "array = np.random.randint(0,10, (2,3))\n",
    "print(f' array: \\n {array} \\nshape: {array.shape}')"
   ]
  },
  {
   "cell_type": "code",
   "execution_count": 3,
   "metadata": {},
   "outputs": [
    {
     "name": "stdout",
     "output_type": "stream",
     "text": [
      " el máximo valor:\n",
      " \n",
      " de todo el array: 9 \n",
      " de cada fila:    [9 3] \n",
      " de cada columna: [2 6 9]\n"
     ]
    }
   ],
   "source": [
    "array_max = array.max()  # ver el máximo valor del array\n",
    "max_rows = array.max(1) #ver el máximo valor en cada fila\n",
    "max_cols = array.max(0) #ver el máximo valor en cada columna\n",
    "\n",
    "print(f' el máximo valor:\\n ')\n",
    "print(f' de todo el array: {array_max} \\n de cada fila:    {max_rows} \\n de cada columna: {max_cols}')"
   ]
  },
  {
   "cell_type": "code",
   "execution_count": 4,
   "metadata": {},
   "outputs": [
    {
     "name": "stdout",
     "output_type": "stream",
     "text": [
      "[[2 6 9]\n",
      " [1 1 3]] \n",
      " Índices de los valores más grandes:\n",
      " en todo el array: 2\n",
      " en cada fila: [2 2]      \n",
      " en cada columna: [0 0 0]\n"
     ]
    }
   ],
   "source": [
    "index_max = np.argmax(array)\n",
    "in_max_rows = array.argmax(1)    # uvicación del máximo valor en cada fila \n",
    "in_max_cols = np.argmax(array, 0) # ubicación del máximo valor en cada columna\n",
    "\n",
    "\n",
    "print(array, \"\\n Índices de los valores más grandes:\")\n",
    "print(f' en todo el array: {index_max}\\n en cada fila: {in_max_rows}\\\n",
    "      \\n en cada columna: {in_max_cols}')\n"
   ]
  },
  {
   "attachments": {},
   "cell_type": "markdown",
   "metadata": {},
   "source": [
    "### np.min y np.argmin\n",
    "usamos estas funciones para encontrar el valor míninmo de un array, siendo:\n",
    "* El valor más chico: `np.min()` *0 = columnas* y *1 = filas*\n",
    "* La ubicación del índice del valor más chico: `np.argmin()` *0 = columnas* y *1 = filas*\n",
    "\n",
    "El comportamiento de ambas funciones es igual al de `np.max()` y `np.argmax()` pero con los valore mínimos"
   ]
  },
  {
   "attachments": {},
   "cell_type": "markdown",
   "metadata": {},
   "source": [
    "### np.unique()\n",
    "Esta función elimina todos los elementos que estén repetidos dentro de un array, dejando solo uno por cada valor."
   ]
  },
  {
   "cell_type": "code",
   "execution_count": 5,
   "metadata": {},
   "outputs": [
    {
     "name": "stdout",
     "output_type": "stream",
     "text": [
      " matriz: \n",
      "[[7 4 7]\n",
      " [7 7 7]\n",
      " [2 8 9]] \n",
      " sacamos los valores repetidos: [2 4 7 8 9]\n"
     ]
    }
   ],
   "source": [
    "array = np.random.randint(1,10,(3,3))\n",
    "\n",
    "print(f' matriz: \\n{array} \\n sacamos los valores repetidos: {np.unique(array)}')"
   ]
  },
  {
   "attachments": {},
   "cell_type": "markdown",
   "metadata": {},
   "source": [
    "# Análisis estadístico\n",
    "Las funciones para análisis estadístico que contiene numpy son las siguientes:\n",
    "\n",
    "### sort( )\n",
    " `sort()` función para ordenar elementos de un array (el más chico al más grande)\n",
    "\n",
    " * así: `arr = np.array([4, 9, 2, 0, 6])` $\\rightarrow$ `arr.sort()` $\\rightarrow$ [0, 2, 4, 6, 9]\n",
    "\n",
    " * para ordenar los elementos del más chico al más grande sería: \n",
    "  * `np.sort(arr)[::-1]`$\\rightarrow$ [9, 6, 4, 2, 0]\n",
    "\n",
    "Es posible colocar como argumento el tipo de algoritmo de ordenamiento que se estará usando para ordenar:\n",
    "* `kind = 'mergesort'`: funciona bien en array's grandes su rendimiento es `O(n * log n)`\n",
    "* `kind = 'quicksort'`: predeterminado, es rápido. En el mejor de los casos funciona como `O(n^2)`, su rendimiento promedio es de `O(n * log n)`\n",
    "* `kind = 'heapsort'` : funciona bien en array's pequeños \n",
    "* `kind = 'stable'`: se usa para indicar que los elementos con valores iguales mantengan su orden relativo después de ordenar \n",
    "* `kind = 'introselect'` : algoritmo de selección introductoria que funciona combinando los algoritmos de selección y los de partición rápida \n",
    "\n",
    "### algoritmos Big O notation: O(n log n)\n",
    "O(n log n): significa que el tiempo de ejecución del algoritmo aumenta proporcionalmente a n multiplicado por el logaritmo de n\n",
    "\n",
    "* un ejemplo es el `mergesort`: Si tenemos una lista de n elementos, el merge sort dividirá recursivamente la lista en sublistas más pequeñas hasta que cada sublista contenga un solo elemento, y luego las fusionará en orden ascendente\n",
    "\n",
    "* este algoritmo esmás eficiente que el Big O($n^2$)\n",
    "\n",
    "### ordenamiendo: Algoritmos de sección  partición rápida\n",
    "\n",
    "**de selección**/  **mergesort**: Es un algoritmo que busca el elemento más pequeño y lo va colocando hasta el principio del array, después sigue con el siguiente hasta intercambiar todos los lugares actuales con los valores ordenados \n",
    "* su Big O notation es de O($n^2$) \n",
    "\n",
    "**de partición rápida** / **quicksort**:  Es un algoritmo recursivo que selecciona un elemento \"pivote\" y reorganiza los elementos de una \"sublista\" de manera en la que los elementos más pequeños que el \"pivote\" queden a su izquierda y los más grandes a la derecha\n",
    "* se aplica este proceso hasta que todos los valores estén ordenados\n",
    "\n",
    "\n",
    "#### Diferencias entre mergesort y quicksort\n",
    "La principal es que el *quicksort* es más eficiente que el *mergesort* ya que tiene complejidad mucho menor\n",
    "* es el que suele utilizarse en software's modernos y se considera uno de los algoritmos más eficientes"
   ]
  },
  {
   "cell_type": "markdown",
   "metadata": {},
   "source": []
  },
  {
   "cell_type": "code",
   "execution_count": 6,
   "metadata": {},
   "outputs": [
    {
     "data": {
      "text/plain": [
       "array([9, 6, 4, 2, 0])"
      ]
     },
     "execution_count": 6,
     "metadata": {},
     "output_type": "execute_result"
    }
   ],
   "source": [
    "arr = np.array([4, 9, 2, 0, 6])\n",
    "arr_sorted = np.sort(arr)[: : -1]\n",
    "arr_sorted"
   ]
  },
  {
   "cell_type": "code",
   "execution_count": 7,
   "metadata": {},
   "outputs": [],
   "source": [
    "# implementando un quicksort con numpy\n",
    "quicksort = array.sort(kind = \"quicksort\")\n",
    "\n",
    "# implementando un mergesort con numpy\n",
    "mergesort = array.sort(kind = \"mergesort\")"
   ]
  },
  {
   "attachments": {},
   "cell_type": "markdown",
   "metadata": {},
   "source": [
    "### np.ptp( )\n",
    "Esta función nos permite saber cuál es la diferencia en cuanto a sus valores entre el más grande y el más chico.\n",
    "* esto nos puede ayudar a observar de qué manera están distribuidos los valores dentro del array\n",
    "\n",
    "teniendo un array con un máximo de 76 y un mínimo de 20, el `np.ptp()` sería 56: $\\space76-20=56$\n"
   ]
  },
  {
   "cell_type": "code",
   "execution_count": 8,
   "metadata": {},
   "outputs": [
    {
     "name": "stdout",
     "output_type": "stream",
     "text": [
      " valor max: 76 mínimo: 20 ptp: 56\n"
     ]
    }
   ],
   "source": [
    "a = np.array(np.random.randint(20,77, (100,50)))\n",
    "a.ptp()\n",
    "\n",
    "print( f' valor max: {a.max()} mínimo: {a.min()} ptp: {a.ptp()}')"
   ]
  },
  {
   "attachments": {},
   "cell_type": "markdown",
   "metadata": {},
   "source": [
    "### np.percentile( )\n",
    "\n",
    "Usamos esta función para calcular el valor posicionado en un percentil especificado en los argumentos\n",
    "* `np.percentile(arr, 50)` para ubicar el valor ubicado en el percentil 50\n",
    "\n",
    "* los percentiles más comunes usados en estadística son los: $0, 25, 50, 75$ (cuartiles)"
   ]
  },
  {
   "cell_type": "code",
   "execution_count": 9,
   "metadata": {},
   "outputs": [
    {
     "data": {
      "text/plain": [
       "7.0"
      ]
     },
     "execution_count": 9,
     "metadata": {},
     "output_type": "execute_result"
    }
   ],
   "source": [
    "np.percentile(array, 50)"
   ]
  },
  {
   "attachments": {},
   "cell_type": "markdown",
   "metadata": {},
   "source": [
    "#### Otros estadísticos:\n",
    "\n",
    "* **np.median( )**: Usamos esta función para calcular la mediana de un array \n",
    "  * La mediana es equivalente al *percentil 50*\n",
    "* **np.mean( )**: Calcular el promedio\n",
    "* **np.str( )**: Calcular la desviación estándar\n",
    "* **np.var( )**: calcular la varianza\n",
    "  * Es equivalente a la desviación estándar al cuadrado"
   ]
  },
  {
   "cell_type": "code",
   "execution_count": 10,
   "metadata": {},
   "outputs": [
    {
     "name": "stdout",
     "output_type": "stream",
     "text": [
      " [[4 7 7]\n",
      " [7 7 7]\n",
      " [2 8 9]]\n",
      " a partir de esta matriz ordenada, calculamos los estadísticos:\n",
      " mediana: 7.0 promedio: 6.444 \n",
      " desviación estándar: 2.006 varianza: 4.025\n"
     ]
    }
   ],
   "source": [
    "array= np.sort(array, kind= 'quicksort')\n",
    "\n",
    "median = round(np.median(array), 3)\n",
    "mean = round(np.mean(array),3)\n",
    "standar_deviation = round(np.std(array),3)\n",
    "variance = round(np.var(array),3)\n",
    "\n",
    "print(f' {array}\\n a partir de esta matriz ordenada, calculamos los estadísticos:')\n",
    "print(f' mediana: {median} promedio: {mean} \\n desviación estándar: {standar_deviation}',\n",
    "        f'varianza: {variance}')\n"
   ]
  },
  {
   "attachments": {},
   "cell_type": "markdown",
   "metadata": {},
   "source": [
    "### conviertiendo una matriz a un vector "
   ]
  },
  {
   "cell_type": "code",
   "execution_count": 13,
   "metadata": {},
   "outputs": [],
   "source": [
    "vector = array.reshape(1,9).squeeze()"
   ]
  },
  {
   "attachments": {},
   "cell_type": "markdown",
   "metadata": {},
   "source": [
    "### np.concatenate( )\n",
    "Sirve para concatenar arrays. Estos deberían tener la misma cantidad de dimensiones para poder concatenarse\n",
    "* tiene como argumentos:\n",
    "  * una tupla con los array a concatenar\n",
    "  * `axis = 0` especificar en qué eje se van a concatenar (0 es por filas, 1 por columnas)"
   ]
  },
  {
   "cell_type": "code",
   "execution_count": 14,
   "metadata": {},
   "outputs": [
    {
     "name": "stdout",
     "output_type": "stream",
     "text": [
      " concatenamos por filas: \n",
      "[[1 2]\n",
      " [3 4]\n",
      " [5 6]]\n"
     ]
    }
   ],
   "source": [
    "a = np.array([[1,2],[3,4]])\n",
    "b = np.array([5,6])\n",
    "\n",
    "#agregamos una dimención a \"b\" para que tengan las mismas dimensiones\n",
    "b = np.expand_dims(b, axis = 0) # por filas \n",
    "\n",
    "# concatenar por filas\n",
    "concat_rows = np.concatenate((a,b), axis = 0)\n",
    "print(f' concatenamos por filas: \\n{concat_rows}')"
   ]
  },
  {
   "cell_type": "code",
   "execution_count": 15,
   "metadata": {},
   "outputs": [
    {
     "name": "stdout",
     "output_type": "stream",
     "text": [
      "concatenamos por columnas:\n",
      " [[1 2 5]\n",
      " [3 4 6]]\n"
     ]
    }
   ],
   "source": [
    "a = np.array([[1,2],[3,4]])\n",
    "b = np.array([5,6], ndmin=2).T #transponemos para poder concatenar por columnas\n",
    "\n",
    "# concatenar por columnas\n",
    "concat_cols = np.concatenate((a,b), axis = 1)\n",
    "print(f'concatenamos por columnas:\\n {concat_cols}')"
   ]
  },
  {
   "attachments": {},
   "cell_type": "markdown",
   "metadata": {},
   "source": [
    "## El siguiente es un ejercicio para importar scripts desde un pyfile (ignorar)"
   ]
  },
  {
   "cell_type": "code",
   "execution_count": 16,
   "metadata": {},
   "outputs": [
    {
     "data": {
      "text/plain": [
       "['/Users/holamauricios/Documents/python_practice/pandas_numpy/notebooks/numpy',\n",
       " '/Users/holamauricios/anaconda3/envs/python_projects/lib/python39.zip',\n",
       " '/Users/holamauricios/anaconda3/envs/python_projects/lib/python3.9',\n",
       " '/Users/holamauricios/anaconda3/envs/python_projects/lib/python3.9/lib-dynload',\n",
       " '',\n",
       " '/Users/holamauricios/anaconda3/envs/python_projects/lib/python3.9/site-packages']"
      ]
     },
     "execution_count": 16,
     "metadata": {},
     "output_type": "execute_result"
    }
   ],
   "source": [
    "import sys \n",
    "import os\n",
    "sys.path\n"
   ]
  },
  {
   "cell_type": "code",
   "execution_count": 17,
   "metadata": {},
   "outputs": [],
   "source": [
    "CURRENT_DIR = os.getcwd()\n",
    "#enlace a la carpeta deseada\n",
    "SCRIPT_DIR =  os.path.join(CURRENT_DIR,\"..\", os.pardir, \"utils\")"
   ]
  },
  {
   "cell_type": "code",
   "execution_count": 18,
   "metadata": {},
   "outputs": [
    {
     "data": {
      "text/plain": [
       "'/Users/holamauricios/Documents/python_practice/pandas_numpy/notebooks/numpy/../../utils'"
      ]
     },
     "execution_count": 18,
     "metadata": {},
     "output_type": "execute_result"
    }
   ],
   "source": [
    "SCRIPT_DIR"
   ]
  },
  {
   "cell_type": "code",
   "execution_count": null,
   "metadata": {},
   "outputs": [
    {
     "data": {
      "text/plain": [
       "['/Users/holamauricios/Documents/python_practice/pandas_numpy/notebooks/numpy/../../utils/__pycache__',\n",
       " '/Users/holamauricios/Documents/python_practice/pandas_numpy/notebooks/numpy/../../utils/utils.py']"
      ]
     },
     "execution_count": 5,
     "metadata": {},
     "output_type": "execute_result"
    }
   ],
   "source": [
    "#verificando el contenido de la carpeta \"utils\"\n",
    "[os.path.join(SCRIPT_DIR, item) for item in os.listdir(SCRIPT_DIR)]"
   ]
  },
  {
   "cell_type": "code",
   "execution_count": 19,
   "metadata": {},
   "outputs": [],
   "source": [
    "sys.path.insert(0,SCRIPT_DIR)"
   ]
  },
  {
   "cell_type": "code",
   "execution_count": 20,
   "metadata": {},
   "outputs": [],
   "source": [
    "import utils"
   ]
  },
  {
   "cell_type": "code",
   "execution_count": 21,
   "metadata": {},
   "outputs": [
    {
     "data": {
      "text/plain": [
       "6.444444444444445"
      ]
     },
     "execution_count": 21,
     "metadata": {},
     "output_type": "execute_result"
    }
   ],
   "source": [
    "promedio = utils.func(array)\n",
    "promedio"
   ]
  },
  {
   "cell_type": "code",
   "execution_count": null,
   "metadata": {},
   "outputs": [],
   "source": []
  }
 ],
 "metadata": {
  "kernelspec": {
   "display_name": "python_projects",
   "language": "python",
   "name": "python3"
  },
  "language_info": {
   "codemirror_mode": {
    "name": "ipython",
    "version": 3
   },
   "file_extension": ".py",
   "mimetype": "text/x-python",
   "name": "python",
   "nbconvert_exporter": "python",
   "pygments_lexer": "ipython3",
   "version": "3.9.16"
  },
  "orig_nbformat": 4
 },
 "nbformat": 4,
 "nbformat_minor": 2
}
