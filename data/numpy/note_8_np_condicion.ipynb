{
 "cells": [
  {
   "attachments": {},
   "cell_type": "markdown",
   "metadata": {},
   "source": [
    "# Condiciones\n",
    "\n",
    "Las condiciones nos permiten hacer consultas más específicas\n",
    "\n",
    "A parte de usar los operadores `>, ==, % < ` para aplicar una condición, también es posible usar una función que en ciertos caso puede ser muy útil:\n",
    "\n",
    "### np.where( )\n",
    "Es una función que ayuda a construir condiciones, e indicar qué valores colocar si la condición se cumple y qué poner cuando no.\n",
    "\n",
    "`np.where(`array condición , si se cumple , si no se cumple`)`\n",
    "\n",
    "así:   `where = np.where(matriz > 50, 9999, 1111)`"
   ]
  },
  {
   "cell_type": "code",
   "execution_count": 102,
   "metadata": {},
   "outputs": [
    {
     "name": "stdout",
     "output_type": "stream",
     "text": [
      " matriz original: \n",
      " [[ 3 54 60]\n",
      " [37 96 92]\n",
      " [28 11 94]] \n",
      "* * *\n",
      " condición \"np.where\": \n",
      "[[1111 9999 9999]\n",
      " [1111 9999 9999]\n",
      " [1111 1111 9999]] \n"
     ]
    }
   ],
   "source": [
    "# matriz de 3x3 con números aleatorios del 1 al 100\n",
    "matriz = np.random.randint(1,100, (3,3))\n",
    "\n",
    "# colocar 9999 cuando el valor es mayor a 50 y 1111 cuando es menor a 50\n",
    "where = np.where(matriz > 50, 9999, 1111)\n",
    "\n",
    "print(f' matriz original: \\n {matriz} \\n* * *\\n condición \"np.where\": \\n{where} ')"
   ]
  },
  {
   "cell_type": "code",
   "execution_count": 94,
   "metadata": {},
   "outputs": [],
   "source": [
    "import numpy as np"
   ]
  },
  {
   "cell_type": "code",
   "execution_count": 6,
   "metadata": {},
   "outputs": [
    {
     "name": "stdout",
     "output_type": "stream",
     "text": [
      " array con 9 números del 1 al 10: [ 1.     2.125  3.25   4.375  5.5    6.625  7.75   8.875 10.   ]\n",
      "\n",
      " detectar los valores que sean mayores a 5: [False False False False  True  True  True  True  True]\n"
     ]
    }
   ],
   "source": [
    "# start , stop , numero de elementos\n",
    "array = np.linspace(1,10,9)\n",
    "\n",
    "# detectar los números que sean mayores a 5\n",
    "mayor_5 = array > 5\n",
    "\n",
    "print(f' array con 9 números del 1 al 10: {array}\\n')\n",
    "print(f' detectar los valores que sean mayores a 5: {mayor_5}')"
   ]
  },
  {
   "attachments": {},
   "cell_type": "markdown",
   "metadata": {},
   "source": [
    "extraer del array original los valores que cumplan la condición (> 5)"
   ]
  },
  {
   "cell_type": "code",
   "execution_count": 7,
   "metadata": {},
   "outputs": [
    {
     "data": {
      "text/plain": [
       "array([ 5.5  ,  6.625,  7.75 ,  8.875, 10.   ])"
      ]
     },
     "execution_count": 7,
     "metadata": {},
     "output_type": "execute_result"
    }
   ],
   "source": [
    "array[mayor_5]"
   ]
  },
  {
   "attachments": {},
   "cell_type": "markdown",
   "metadata": {},
   "source": [
    "### Múltiples condiciones\n",
    "\n",
    "es posible colocar múltiples condiciones al concatenarlos con `&`(y) `|`(o) dependiendo de la nececidad\n",
    "* al colocar `&` todas las condiciones deben de cumplirse para que sea `True`\n",
    "* al colocar `|` una de las dos (ó más) condiciones deben de cumplirse para que sea `True`\n",
    "  * si ambas condiciones se cumplen, también es válido"
   ]
  },
  {
   "cell_type": "code",
   "execution_count": 81,
   "metadata": {},
   "outputs": [
    {
     "data": {
      "text/plain": [
       "[1.0, 7.0, 8.0, 9.0, 10.0]"
      ]
     },
     "execution_count": 81,
     "metadata": {},
     "output_type": "execute_result"
    }
   ],
   "source": [
    "# condición buscar obtener números mayores a 3 o iguales a 1\n",
    "lista_condiciones = list(array[(array >6)|(array ==1)])\n",
    "\n",
    "# pasamos todo a enteros y nuevamente a flotantes (solo por práctica)\n",
    "lista_int = [int(i) for i in lista_condiciones]\n",
    "\n",
    "def flotantes(array):\n",
    "    lista = []\n",
    "    for i in array:\n",
    "        lista.append(float(i))\n",
    "    return lista\n",
    "\n",
    "lista_float = flotantes(lista_int)\n",
    "lista_float\n"
   ]
  },
  {
   "attachments": {},
   "cell_type": "markdown",
   "metadata": {},
   "source": [
    "En la lista de flotantes `lista_int`:\n",
    "* (1) convertir la lista a un array\n",
    "* (2) cambiar todos los valores mayores a 7 a 9999"
   ]
  },
  {
   "cell_type": "code",
   "execution_count": 80,
   "metadata": {},
   "outputs": [
    {
     "data": {
      "text/plain": [
       "array([   1,    6,    7, 9999, 9999])"
      ]
     },
     "execution_count": 80,
     "metadata": {},
     "output_type": "execute_result"
    }
   ],
   "source": [
    "array_int = np.array(lista_int) # (1)\n",
    "array_int[array_int > 7] = 9999 # (2)\n",
    "array_int"
   ]
  },
  {
   "cell_type": "code",
   "execution_count": 82,
   "metadata": {},
   "outputs": [
    {
     "data": {
      "text/plain": [
       "array([9999, 9999])"
      ]
     },
     "execution_count": 82,
     "metadata": {},
     "output_type": "execute_result"
    }
   ],
   "source": [
    "#mostrar solo los valores que son 9999\n",
    "array_int[array_int == 9999]"
   ]
  },
  {
   "attachments": {},
   "cell_type": "markdown",
   "metadata": {},
   "source": [
    "práctica"
   ]
  },
  {
   "cell_type": "code",
   "execution_count": 74,
   "metadata": {},
   "outputs": [
    {
     "data": {
      "text/plain": [
       "array([ True, False, False, False, False,  True,  True,  True,  True,\n",
       "        True])"
      ]
     },
     "execution_count": 74,
     "metadata": {},
     "output_type": "execute_result"
    }
   ],
   "source": [
    "array = np.linspace(1,10,10)\n",
    "\n",
    "# del array, tomar el \"1\" y los valores mayores a 5\n",
    "condicion = (array == 1) | (array > 5) \n",
    "condicion"
   ]
  },
  {
   "attachments": {},
   "cell_type": "markdown",
   "metadata": {},
   "source": [
    "el resultado es una lista mostrando dónde se cumple la condición y dónde no\n",
    "* para obtener los valores que cumplen la condición, hay que ejecutar la condición dentro del array original"
   ]
  },
  {
   "cell_type": "code",
   "execution_count": 75,
   "metadata": {},
   "outputs": [
    {
     "data": {
      "text/plain": [
       "array([ 1.,  6.,  7.,  8.,  9., 10.])"
      ]
     },
     "execution_count": 75,
     "metadata": {},
     "output_type": "execute_result"
    }
   ],
   "source": [
    "#ejecutar condición\n",
    "array[condicion]"
   ]
  },
  {
   "cell_type": "code",
   "execution_count": 76,
   "metadata": {},
   "outputs": [
    {
     "data": {
      "text/plain": [
       "array([ 1.,  2.,  4.,  6.,  8., 10.])"
      ]
     },
     "execution_count": 76,
     "metadata": {},
     "output_type": "execute_result"
    }
   ],
   "source": [
    "# extraer de la lista el \"1\" y todos los pares\n",
    "pares_o_uno = array[(array %2 == 0)| (array == 1)]\n",
    "pares_o_uno"
   ]
  },
  {
   "cell_type": "code",
   "execution_count": null,
   "metadata": {},
   "outputs": [],
   "source": []
  }
 ],
 "metadata": {
  "kernelspec": {
   "display_name": "python_projects",
   "language": "python",
   "name": "python3"
  },
  "language_info": {
   "codemirror_mode": {
    "name": "ipython",
    "version": 3
   },
   "file_extension": ".py",
   "mimetype": "text/x-python",
   "name": "python",
   "nbconvert_exporter": "python",
   "pygments_lexer": "ipython3",
   "version": "3.9.16"
  },
  "orig_nbformat": 4
 },
 "nbformat": 4,
 "nbformat_minor": 2
}
