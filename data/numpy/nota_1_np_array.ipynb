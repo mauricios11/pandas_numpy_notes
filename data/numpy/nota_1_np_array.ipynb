{
 "cells": [
  {
   "cell_type": "code",
   "execution_count": 1,
   "metadata": {},
   "outputs": [],
   "source": [
    "import numpy as np"
   ]
  },
  {
   "attachments": {},
   "cell_type": "markdown",
   "metadata": {},
   "source": [
    "El array es el principal objeto de la librería. Representa datos de manera esttructurada y se puede acceder a ellos a trevés del indexado (sus números de índice) a un dato específico ó un grupo de muchos datos"
   ]
  },
  {
   "cell_type": "code",
   "execution_count": 2,
   "metadata": {},
   "outputs": [
    {
     "data": {
      "text/plain": [
       "[1, 2, 3, 4, 5, 6]"
      ]
     },
     "execution_count": 2,
     "metadata": {},
     "output_type": "execute_result"
    }
   ],
   "source": [
    "lista = [1, 2, 3, 4, 5, 6]\n",
    "lista"
   ]
  },
  {
   "attachments": {},
   "cell_type": "markdown",
   "metadata": {},
   "source": [
    "definimos un array usando `np.array(lista)` \n",
    "* el argumento es la lista anterior"
   ]
  },
  {
   "cell_type": "code",
   "execution_count": 3,
   "metadata": {},
   "outputs": [],
   "source": [
    "lista_array = np.array(lista)"
   ]
  },
  {
   "cell_type": "code",
   "execution_count": 5,
   "metadata": {},
   "outputs": [
    {
     "name": "stdout",
     "output_type": "stream",
     "text": [
      "<class 'numpy.ndarray'> <class 'list'>\n"
     ]
    }
   ],
   "source": [
    "print(type(lista_array), type(lista))"
   ]
  },
  {
   "attachments": {},
   "cell_type": "markdown",
   "metadata": {},
   "source": [
    "Dimensiones de arrays\n",
    "* **vectorr**: array de una dimensión \n",
    "* **matriz**: array con dos dimensiones\n",
    "* **tensor**: array de tres dimensiones"
   ]
  },
  {
   "cell_type": "code",
   "execution_count": 45,
   "metadata": {},
   "outputs": [],
   "source": [
    "#1 dim (Escalar)\n",
    "arr_1dim = np.array([1, 2, 3, 4]) #  ó si no np.array(lista)\n",
    "\n",
    "# 2 dim (matriz)\n",
    "arr_2dim = np.array([\n",
    "                      [1, 2, 3, 4],\n",
    "                      [5, 6, 7, 8],\n",
    "                      [9, 10, 11, 12]\n",
    "                    ])\n",
    "\n",
    "# 3 dim (tensor)\n",
    "arr_3dim = np.array([\n",
    "                      [\n",
    "                          [1, 2, 3, 4],[5, 6, 7, 8],[9, 10, 11, 12],\n",
    "                          [1, 2, 3, 4],[5, 6, 7, 8],[9, 10, 11, 12],\n",
    "                          [1, 2, 3, 4],[5, 6, 7, 8],[9, 10, 11, 12]\n",
    "                      ]\n",
    "                    ])"
   ]
  },
  {
   "cell_type": "code",
   "execution_count": 46,
   "metadata": {},
   "outputs": [
    {
     "name": "stdout",
     "output_type": "stream",
     "text": [
      " una dimensión: [1 2 3 4]\n",
      " **** \n",
      " dos dimensiones:\n",
      "[[ 1  2  3  4]\n",
      " [ 5  6  7  8]\n",
      " [ 9 10 11 12]]\n",
      " **** \n",
      " tres dimensiones: \n",
      "[[[ 1  2  3  4]\n",
      "  [ 5  6  7  8]\n",
      "  [ 9 10 11 12]\n",
      "  [ 1  2  3  4]\n",
      "  [ 5  6  7  8]\n",
      "  [ 9 10 11 12]\n",
      "  [ 1  2  3  4]\n",
      "  [ 5  6  7  8]\n",
      "  [ 9 10 11 12]]]\n"
     ]
    }
   ],
   "source": [
    "print(f' una dimensión: {arr_1dim}\\n **** \\n dos dimensiones:\\n{arr_2dim}\\n **** \\n tres dimensiones: \\n{arr_3dim}')"
   ]
  },
  {
   "attachments": {},
   "cell_type": "markdown",
   "metadata": {},
   "source": [
    "### indexing\n",
    "Podemos acceder a cualquier elemento del array incodándolo por su posición en el índice: `array[0]`\n",
    "* Recordar que los índices empiezan por $0$\n"
   ]
  },
  {
   "cell_type": "code",
   "execution_count": 17,
   "metadata": {},
   "outputs": [
    {
     "data": {
      "text/plain": [
       "2"
      ]
     },
     "execution_count": 17,
     "metadata": {},
     "output_type": "execute_result"
    }
   ],
   "source": [
    "arr_1dim[1]"
   ]
  },
  {
   "attachments": {},
   "cell_type": "markdown",
   "metadata": {},
   "source": [
    "sumar elementos de un array invocándolos por su número de índice\n",
    "\n",
    "# Respecto a la suma de elementos de una matriz\n",
    "* el primer elemento que colocamos representa a las **filas**\n",
    "* el segundo a las **columnas**\n",
    "\n",
    "   `arr_matriz[`*filas*`,`*columnas*`]` $\\equiv$  `arr_matriz[0,1]`\n",
    "\n",
    "*Estando operando en una matriz, si colocamos sólo un argumento, estará trayendo todos los elementos de la fila*\n"
   ]
  },
  {
   "cell_type": "code",
   "execution_count": 47,
   "metadata": {},
   "outputs": [
    {
     "name": "stdout",
     "output_type": "stream",
     "text": [
      " Suma en una dimensión:   7 \n",
      " Suma en dos dimensiones: 8\n"
     ]
    }
   ],
   "source": [
    "#una dimensión\n",
    "suma_arr = arr_1dim[2] + arr_1dim[3]\n",
    "suma_matriz = arr_2dim[0,1] + arr_2dim[1,1]\n",
    "\n",
    "print(f' Suma en una dimensión:   {suma_arr} \\n Suma en dos dimensiones: {suma_matriz}')\n"
   ]
  },
  {
   "attachments": {},
   "cell_type": "markdown",
   "metadata": {},
   "source": [
    "Acceder a varios elementos a la vez (matriz) por medio de slices\n",
    "* *[donde empieza : donde termina : cuántos pasos se darán hacia el siguiente]*"
   ]
  },
  {
   "cell_type": "code",
   "execution_count": 62,
   "metadata": {},
   "outputs": [
    {
     "data": {
      "text/plain": [
       "[array([2, 3, 4]), 4, array([4, 2])]"
      ]
     },
     "execution_count": 62,
     "metadata": {},
     "output_type": "execute_result"
    }
   ],
   "source": [
    "slices_arr = [\n",
    "               arr_1dim[-3: ],      # acceder a los últimos tres elementos del array\n",
    "               arr_1dim[-1],        # acceder al último elemento del array\n",
    "               arr_1dim[-1 : : -2]  # acceder a todos los elementos `: todos : ` empezando del último hacia atrás, de dos en dos\n",
    "             ]\n",
    "slices_arr"
   ]
  },
  {
   "cell_type": "code",
   "execution_count": 51,
   "metadata": {},
   "outputs": [
    {
     "data": {
      "text/plain": [
       "[array([5, 6, 7]),\n",
       " array([6, 7, 8]),\n",
       " array([5, 8]),\n",
       " 8,\n",
       " 6,\n",
       " array([[ 9, 10, 11, 12]]),\n",
       " array([[ 5,  6,  7,  8],\n",
       "        [ 9, 10, 11, 12]])]"
      ]
     },
     "execution_count": 51,
     "metadata": {},
     "output_type": "execute_result"
    }
   ],
   "source": [
    "slices_matriz= [\n",
    "    arr_2dim[1, :3],    # elementos desde la posición \"0\" hasta la 3 -1\n",
    "    arr_2dim[1, 1:],    # elementos desde la posición \"1\" en adelante\n",
    "    arr_2dim[1, : :3],  # todos los elementos de la segunda fila, pero cada 3 espacios\n",
    "    arr_2dim[1, -1],    # el ÚLTIMO elemento de la segunda fila\n",
    "    arr_2dim[1,-3],     # el tercer último elemento de la segunda fila\n",
    "    arr_2dim[-1 :],     # acceder a la última fila\n",
    "    arr_2dim[-2 :]      # acceder a las últimas dos filas\n",
    "]\n",
    "slices_matriz"
   ]
  },
  {
   "attachments": {},
   "cell_type": "markdown",
   "metadata": {},
   "source": [
    "Al invocar los elementos por slices, el último elemento no se cuenta"
   ]
  },
  {
   "attachments": {},
   "cell_type": "markdown",
   "metadata": {},
   "source": [
    "`arr[1: , 0:2]` este slice se lee de la siguiente forma:\n",
    "  * `1:` segunda fila  en adelante \n",
    "  * `, 0:2` desde la primera columna hasta la tercera (sin contar el último)"
   ]
  },
  {
   "cell_type": "code",
   "execution_count": 68,
   "metadata": {},
   "outputs": [
    {
     "name": "stdout",
     "output_type": "stream",
     "text": [
      " [[ 1  2  3  4]\n",
      " [ 5  6  7  8]\n",
      " [ 9 10 11 12]] \n",
      "  selección: \n",
      " [[ 5  6]\n",
      " [ 9 10]]\n"
     ]
    }
   ],
   "source": [
    "print(f' {arr_2dim} \\n  selección: \\n {arr_2dim[1: , 0:2]}')"
   ]
  },
  {
   "cell_type": "code",
   "execution_count": null,
   "metadata": {},
   "outputs": [],
   "source": []
  },
  {
   "cell_type": "code",
   "execution_count": null,
   "metadata": {},
   "outputs": [],
   "source": []
  }
 ],
 "metadata": {
  "kernelspec": {
   "display_name": "python_projects",
   "language": "python",
   "name": "python3"
  },
  "language_info": {
   "codemirror_mode": {
    "name": "ipython",
    "version": 3
   },
   "file_extension": ".py",
   "mimetype": "text/x-python",
   "name": "python",
   "nbconvert_exporter": "python",
   "pygments_lexer": "ipython3",
   "version": "3.9.16"
  },
  "orig_nbformat": 4
 },
 "nbformat": 4,
 "nbformat_minor": 2
}
