{
 "cells": [
  {
   "attachments": {},
   "cell_type": "markdown",
   "metadata": {},
   "source": [
    "# Dimensiones de arrays: Scalar, vector,  matriz, tensor\n",
    "\n",
    "Usando el método `.ndim` podemos ver las dimensiones que tiene una variable que contenga elementos\n",
    "\n",
    "* **scalar**: $0$ un solo dato o valor (sin dimensiones)\n",
    "   * `scalar = np.array([1])`\\\n",
    "    \\\n",
    "* **vector**: $r1$ listas de elementos, cada uno separado por comas\n",
    "    * se miden por columnas, suendo un apor cada elemento `[3,]` $\\equiv$ `[columnas, ]`\n",
    "    * `vector = np.array([1, 2, 3, 4, 5])`\\\n",
    "    \\\n",
    "* **matriz**: $r2$ hojas de cálculo. Conjunto de vectores donde cada fila representa un vector, y cada columna representa a un elemento presente en dicho vector (en este caso fila)\n",
    "    * se miden por filas (ejemplos) y columnas `[3,2]` $\\equiv$ `[filas, columnas]`\n",
    "    * `matriz = np.array([ [1, 2, 3], [4, 5, 6],[7, 8, 9] ])`\\\n"
   ]
  },
  {
   "attachments": {},
   "cell_type": "markdown",
   "metadata": {},
   "source": [
    "## tensor\n",
    "$r3+$ Conjunto de matrices, pueden ser series de tiempo, imágenes\n",
    "    * respecto a las series de tiempo se refiere a tener una serie de:\n",
    "      * `[#,#,3]` *= repeticiones* : número de columnas\n",
    "      * `[#,3,#]` *= columnas*: comportamiento a través del tiempo \n",
    "      * `[3,#,#]` *= filas*: número de matrices (ejemplos)\n",
    "\n",
    "\n",
    "    * se miden por filas, columnas, y cantidad de veces que se repiten: `[3,2,4]` $\\equiv$ `[filas, columnas, repeticiones]`\n",
    "    * `tensor = np.array([`  \n",
    "        `[ [1, 2, 3], [4, 5, 6], [7, 8, 9] ],`\n",
    "\n",
    "        `[ [10, 11, 12], [13, 14, 15], [16, 17, 18] ],`\n",
    "                          \n",
    "        `[ [19, 20, 21], [22, 23, 24], [25, 26, 92] ]`\n",
    "                         \n",
    "        `])` \n",
    "\n",
    "### representando una imagen en un tensor\n",
    "teniendo un tensor de 4 dimensiones (una imagen dividida en canales RGB) sería:\n",
    "  * número de matrices (ejemplos)\n",
    "  * filas, columnas\n",
    "  * canales\n",
    "\n",
    "así se vería una imagen en un tensor de 4 dimensiones: *(1, altura, ancho, canales de color)*\n",
    "        \n",
    "`imagen = np.zeros((1, 256, 256, 3), dtype=np.uint8)`\n",
    "\n",
    "  * En este ejemplo, la variable \"imagen\" es un array de cuatro dimensiones con tamaño (1, 256, 256, 3): \n",
    "    * `1` El primer índice es 1 ya que solo hay una imagen\n",
    "    * `256, 256` El segundo y el tercero representan la altura y el ancho de la imagen\n",
    "    * `3` el último índice representa los tres canales de color (rojo, verde y azul) en formato RGB\n",
    "    * `dytpe` ayuda a especifica el tipo de dato con el que estaramos trabajando\n",
    "\n",
    "### representando un video en un tensor\n",
    "Supongamos que tenemos un video de tamaño 128x128 con 30 fotogramas por segundo, y que cada fotograma está en formato RGB (tres canales de color)\n",
    "\n",
    "* Creamos un array de cuatro dimensiones de tamaño (fotogramas, altura, ancho, canales de color)\n",
    "\n",
    "`video = np.zeros((30, 128, 128, 3), dtype=np.uint8)`\n",
    "\n",
    "En este ejemplo, la variable \"video\" es un array de cuatro dimensiones con tamaño (30, 128, 128, 3) siendo:\n",
    "* `30` El primer índice representa el número de fotogramas en el video\n",
    "* `128, 128` El segundo y el tercero representan la altura y el ancho de cada fotograma\n",
    "* `3` El último índice representa los tres canales de color (rojo, verde y azul) en formato RGB\n",
    "\n"
   ]
  },
  {
   "cell_type": "code",
   "execution_count": 3,
   "metadata": {},
   "outputs": [],
   "source": [
    "import numpy as np"
   ]
  },
  {
   "attachments": {},
   "cell_type": "markdown",
   "metadata": {},
   "source": [
    "scalar"
   ]
  },
  {
   "cell_type": "code",
   "execution_count": 3,
   "metadata": {},
   "outputs": [
    {
     "name": "stdout",
     "output_type": "stream",
     "text": [
      " scalar: [1], dimensiones: 1\n"
     ]
    }
   ],
   "source": [
    "scalar = np.array([1])\n",
    "print(f' scalar: {scalar}, dimensiones: {scalar.ndim}')"
   ]
  },
  {
   "attachments": {},
   "cell_type": "markdown",
   "metadata": {},
   "source": [
    "vector"
   ]
  },
  {
   "cell_type": "code",
   "execution_count": 4,
   "metadata": {},
   "outputs": [
    {
     "name": "stdout",
     "output_type": "stream",
     "text": [
      " vectorr: [1 2 3 4], dimensiones: 1\n"
     ]
    }
   ],
   "source": [
    "vector = np.array([1, 2, 3, 4])\n",
    "print(f' vectorr: {vector}, dimensiones: {vector.ndim}')"
   ]
  },
  {
   "attachments": {},
   "cell_type": "markdown",
   "metadata": {},
   "source": [
    "matriz"
   ]
  },
  {
   "cell_type": "code",
   "execution_count": 5,
   "metadata": {},
   "outputs": [
    {
     "name": "stdout",
     "output_type": "stream",
     "text": [
      " vectorr: [[1 2 3]\n",
      " [4 5 6]\n",
      " [7 8 9]], dimensiones: 2\n"
     ]
    }
   ],
   "source": [
    "matriz = np.array([ [1, 2, 3],\n",
    "                    [4, 5, 6],\n",
    "                    [7, 8, 9] ])\n",
    "print(f' matriz: {matriz}\\n dimensiones:\\n {matriz.ndim}')"
   ]
  },
  {
   "attachments": {},
   "cell_type": "markdown",
   "metadata": {},
   "source": [
    "tensor"
   ]
  },
  {
   "cell_type": "code",
   "execution_count": 7,
   "metadata": {},
   "outputs": [
    {
     "name": "stdout",
     "output_type": "stream",
     "text": [
      " tensor: \n",
      " [[[1 2 3]\n",
      "  [4 5 6]\n",
      "  [7 8 9]]\n",
      "\n",
      " [[1 2 3]\n",
      "  [4 5 6]\n",
      "  [7 8 9]]\n",
      "\n",
      " [[1 2 3]\n",
      "  [4 5 6]\n",
      "  [7 8 9]]]\n",
      " dimensiones:\n",
      " 3\n"
     ]
    }
   ],
   "source": [
    "tensor = np.array([\n",
    "                    [ \n",
    "                      [1, 2, 3], \n",
    "                      [4, 5, 6],\n",
    "                      [7, 8, 9],\n",
    "                    ], \n",
    "                    [ \n",
    "                      [1, 2, 3], \n",
    "                      [4, 5, 6],\n",
    "                      [7, 8, 9],\n",
    "                    ],\n",
    "                    [ \n",
    "                      [1, 2, 3], \n",
    "                      [4, 5, 6],\n",
    "                      [7, 8, 9],\n",
    "                    ]            \n",
    "                ])\n",
    "print(f' tensor: \\n {tensor}\\n dimensiones:\\n {tensor.ndim}')"
   ]
  },
  {
   "attachments": {},
   "cell_type": "markdown",
   "metadata": {},
   "source": [
    "# agregar / eliminar dimensiones\n",
    "Es muy util controlar la cantidad de dimensiones dependiendo de la necesidad de nuestro algoritmo, sobre todo al entrenar modelos de ML"
   ]
  },
  {
   "attachments": {},
   "cell_type": "markdown",
   "metadata": {},
   "source": [
    "### Agregar  dimensiones\n",
    "\n",
    "* **indicar** dimensiones al crear un array:\n",
    "  * para especificar el número de dimensiones que tendrá un array usamos el argumento `array.ndmin= #` dentro de la función `np.array()`\\\n",
    "\\\n",
    "* **aumentar** dimensiones en un array que ya existe: \n",
    "  *usamos la función `np.expand_dims()` teniendo como argumentos:\n",
    "    * el array\n",
    "    * `axis= #` el número de dimensiones en el eje\n",
    "       * *axis =0* se agregarán dimensiones en las **filas**\n",
    "       * *axis =1* se agregarán dimensiones en las **columnas**\n",
    "\n",
    " **En python, al interactuar con los ejes:**\n",
    "   * **$0 \\equiv$ filas**\n",
    "   * **$1 \\equiv$ columnas**\n"
   ]
  },
  {
   "cell_type": "code",
   "execution_count": 10,
   "metadata": {},
   "outputs": [
    {
     "name": "stdout",
     "output_type": "stream",
     "text": [
      " array: [[[[[[[[[[1 2 3]]]]]]]]]]\n",
      " número de dimensiones: 10\n"
     ]
    }
   ],
   "source": [
    "# indicar número de dimensiones al crear un array\n",
    "array_dim = np.array([1, 2, 3], ndmin= 10)\n",
    "print(f' array: {array_dim}\\n número de dimensiones: {array_dim.ndim}')"
   ]
  },
  {
   "cell_type": "code",
   "execution_count": 28,
   "metadata": {},
   "outputs": [],
   "source": [
    "# aumentar dimensiones en un array ya existente\n",
    "array = np.array([1, 3, 5])\n",
    "more_dims_row = np.expand_dims(array, axis= 1)  #aumentar dimensiones en columnas\n",
    "more_dims_col = np.expand_dims(array, axis =0)  #aumentar dimensiones en filas"
   ]
  },
  {
   "cell_type": "code",
   "execution_count": 29,
   "metadata": {},
   "outputs": [
    {
     "name": "stdout",
     "output_type": "stream",
     "text": [
      " array: [1 3 5], dimensiones: 1\n",
      " ***\n",
      " mismo array agregando una dimensión a nivel columnas: [[1 3 5]] , dimensiones: 2\n",
      " mismo array agregando una dimensión a nivel filas: \n",
      "[[1]\n",
      " [3]\n",
      " [5]] \n",
      " dimensiones: 2\n"
     ]
    }
   ],
   "source": [
    "print(f' array: {array}, dimensiones: {array.ndim}\\n ***')\n",
    "print(f' mismo array agregando una dimensión a nivel columnas: {more_dims_col} , dimensiones: {more_dims_col.ndim}')\n",
    "print(f' mismo array agregando una dimensión a nivel filas: \\n{more_dims_row} \\n dimensiones: {more_dims_row.ndim}')"
   ]
  },
  {
   "attachments": {},
   "cell_type": "markdown",
   "metadata": {},
   "source": [
    "### eliminar dimensiones\n",
    "\n",
    "usamos la función `np.squeeze()` para eliminar dimensiones de un array, tendrá como argumentos:\n",
    "* el array\n",
    "\n",
    "Lo que hace es comprimir al número de dimensiones \"correcto\" (elimina las dimensiones que estén vacías)\n"
   ]
  },
  {
   "cell_type": "code",
   "execution_count": 37,
   "metadata": {},
   "outputs": [
    {
     "name": "stdout",
     "output_type": "stream",
     "text": [
      " Este array tiene muchas dimensiones vacías: [[[[[[[[[[10 20 30]]]]]]]]]]        dims: 10\n",
      " Por medio de \"squeeze()\", las dimensiones vacías se han eliminado: [10 20 30] , dims: 1\n"
     ]
    }
   ],
   "source": [
    "array_10 = np.array([10, 20, 30], ndmin= 10)\n",
    "print(f' Este array tiene muchas dimensiones vacías: {array_10}        dims: {array_10.ndim}')\n",
    "\n",
    "array_10_squeezed = np.squeeze(array_10)\n",
    "print(f' Por medio de \"squeeze()\", las dimensiones vacías se han eliminado: {array_10_squeezed} , dims: {array_10_squeezed.ndim}')"
   ]
  },
  {
   "attachments": {},
   "cell_type": "markdown",
   "metadata": {},
   "source": [
    "hacer un tensor de 5 dimensiones, agregarle una dimensión en columnas, después eliminar las dimensiones que están vacías"
   ]
  },
  {
   "cell_type": "code",
   "execution_count": 44,
   "metadata": {},
   "outputs": [
    {
     "data": {
      "text/plain": [
       "10"
      ]
     },
     "execution_count": 44,
     "metadata": {},
     "output_type": "execute_result"
    }
   ],
   "source": [
    "tensor = np.array([\n",
    "                    [\n",
    "                        [\n",
    "                            [ [1, 2, 3, 4], [6, 7, 8, 9], [10, 11, 12, 13] ],\n",
    "                            [ [5, 14, 16, 17], [18, 19, 20, 21], [22, 23, 24, 25] ],\n",
    "                            [ [26, 27, 28, 29], [30, 31, 32, 33], [34, 35, 36, 37]],\n",
    "                            [ [38, 39, 40, 41], [42, 43, 44, 45], [46, 47, 48, 48] ],\n",
    "                        ]\n",
    "                    ]\n",
    "                ], ndmin = 10)\n",
    "tensor.ndim"
   ]
  },
  {
   "cell_type": "code",
   "execution_count": 45,
   "metadata": {},
   "outputs": [
    {
     "data": {
      "text/plain": [
       "11"
      ]
     },
     "execution_count": 45,
     "metadata": {},
     "output_type": "execute_result"
    }
   ],
   "source": [
    "#aumentar a 6 dimensiones en columnas\n",
    "tensor= np.expand_dims(tensor, axis=1)\n",
    "tensor.ndim"
   ]
  },
  {
   "cell_type": "code",
   "execution_count": 46,
   "metadata": {},
   "outputs": [
    {
     "data": {
      "text/plain": [
       "3"
      ]
     },
     "execution_count": 46,
     "metadata": {},
     "output_type": "execute_result"
    }
   ],
   "source": [
    "#eliminar dimensiones que están vacías\n",
    "tensor = np.squeeze(tensor)\n",
    "tensor.ndim"
   ]
  },
  {
   "cell_type": "code",
   "execution_count": 7,
   "metadata": {},
   "outputs": [
    {
     "ename": "TypeError",
     "evalue": "Cannot interpret '5' as a data type",
     "output_type": "error",
     "traceback": [
      "\u001b[0;31m---------------------------------------------------------------------------\u001b[0m",
      "\u001b[0;31mTypeError\u001b[0m                                 Traceback (most recent call last)",
      "Cell \u001b[0;32mIn[7], line 1\u001b[0m\n\u001b[0;32m----> 1\u001b[0m a \u001b[39m=\u001b[39m np\u001b[39m.\u001b[39;49marray((\u001b[39m2\u001b[39;49m,\u001b[39m4\u001b[39;49m),\u001b[39m5\u001b[39;49m)\n\u001b[1;32m      2\u001b[0m a\n",
      "\u001b[0;31mTypeError\u001b[0m: Cannot interpret '5' as a data type"
     ]
    }
   ],
   "source": []
  },
  {
   "cell_type": "code",
   "execution_count": null,
   "metadata": {},
   "outputs": [],
   "source": []
  }
 ],
 "metadata": {
  "kernelspec": {
   "display_name": "python_projects",
   "language": "python",
   "name": "python3"
  },
  "language_info": {
   "codemirror_mode": {
    "name": "ipython",
    "version": 3
   },
   "file_extension": ".py",
   "mimetype": "text/x-python",
   "name": "python",
   "nbconvert_exporter": "python",
   "pygments_lexer": "ipython3",
   "version": "3.9.16"
  },
  "orig_nbformat": 4
 },
 "nbformat": 4,
 "nbformat_minor": 2
}
