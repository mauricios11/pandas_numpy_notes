{
 "cells": [
  {
   "cell_type": "code",
   "execution_count": 2,
   "metadata": {},
   "outputs": [],
   "source": [
    "import numpy as np"
   ]
  },
  {
   "attachments": {},
   "cell_type": "markdown",
   "metadata": {},
   "source": [
    "usamos `array.dtype` para verificar de qué tipo de dato es\n",
    "* Es posible usar `dtype = tipo` como un argumento a la hora de declarar un array\n",
    "\n",
    "*los elementos tipo \"float64\" suelen usarse en redes neuronales / ML*\n",
    "\n",
    "* Un **array de numpy** solo puede tener un tipo de dato\n",
    "  * *no puede haber flotantes, enteros y strings en el mismo array*"
   ]
  },
  {
   "cell_type": "markdown",
   "metadata": {},
   "source": []
  },
  {
   "cell_type": "code",
   "execution_count": 3,
   "metadata": {},
   "outputs": [
    {
     "name": "stdout",
     "output_type": "stream",
     "text": [
      " array predetemindado. tipo: int64 \n",
      " array especificando float64: [1. 2. 3. 4.]\n"
     ]
    }
   ],
   "source": [
    "array_vector = np.array([1, 2, 3, 4])\n",
    "\n",
    "\n",
    "array_vector_float = np.array([1, 2, 3, 4], dtype= 'float64')\n",
    "\n",
    "print(f' array predetemindado. tipo: {array_vector.dtype} \\n array especificando float64: {array_vector_float}')"
   ]
  },
  {
   "attachments": {},
   "cell_type": "markdown",
   "metadata": {},
   "source": [
    "### cambiar el *dtype* de un array  que ya existe\n",
    "\n",
    "usamos la función `array.astype(np.float64)` para cambiar un array a tipo flotante\n",
    "\n",
    "Los elementos más comunes como argumento de `astype`: \n",
    "* `np.int64`    $\\equiv$ `dtype = 'int64'`\n",
    "* `np.float64`  $\\equiv$ `dtype = 'float64'`\n",
    "* `np.bool_`    $\\equiv$ `dtype = 'bool`\n",
    "* `np.string_`  $\\equiv$ `dtype = 'string'`\n",
    "\n",
    "cuando cambiamos un array que ya existe (con números) a booleano. El $0$ equivale a `False` y los demás números equivalen a `True`\n",
    "* sin importar que sean números negativos\n",
    "\n"
   ]
  },
  {
   "cell_type": "code",
   "execution_count": 9,
   "metadata": {},
   "outputs": [
    {
     "data": {
      "text/plain": [
       "array([1., 2., 3., 4.])"
      ]
     },
     "execution_count": 9,
     "metadata": {},
     "output_type": "execute_result"
    }
   ],
   "source": [
    "# convertir un entero a flotante\n",
    "array_vector.astype(np.float64)"
   ]
  },
  {
   "cell_type": "code",
   "execution_count": 6,
   "metadata": {},
   "outputs": [
    {
     "data": {
      "text/plain": [
       "array([ True,  True, False,  True])"
      ]
     },
     "execution_count": 6,
     "metadata": {},
     "output_type": "execute_result"
    }
   ],
   "source": [
    "# convertir un entero a booleano\n",
    "array_vector_bool = np.array([-1, -2, 0, 4], dtype= bool)\n",
    "array_vector_bool"
   ]
  },
  {
   "cell_type": "code",
   "execution_count": 13,
   "metadata": {},
   "outputs": [
    {
     "data": {
      "text/plain": [
       "array([b'1.0', b'2.0', b'3.0', b'4.0'], dtype='|S32')"
      ]
     },
     "execution_count": 13,
     "metadata": {},
     "output_type": "execute_result"
    }
   ],
   "source": [
    "# convertir un número flotante a un string\n",
    "array_vector_string = array_vector_float.astype(np.string_)\n",
    "array_vector_string "
   ]
  },
  {
   "cell_type": "code",
   "execution_count": 15,
   "metadata": {},
   "outputs": [
    {
     "data": {
      "text/plain": [
       "array([1, 2, 3, 4], dtype=int8)"
      ]
     },
     "execution_count": 15,
     "metadata": {},
     "output_type": "execute_result"
    }
   ],
   "source": [
    "#convertir un arrar con string de dígitos a enteros\n",
    "array_vector_string_num = np.array(['1', '2', '3', '4'])\n",
    "array_vector_string_num.astype(np.int8)"
   ]
  },
  {
   "cell_type": "code",
   "execution_count": null,
   "metadata": {},
   "outputs": [],
   "source": []
  }
 ],
 "metadata": {
  "kernelspec": {
   "display_name": "python_projects",
   "language": "python",
   "name": "python3"
  },
  "language_info": {
   "codemirror_mode": {
    "name": "ipython",
    "version": 3
   },
   "file_extension": ".py",
   "mimetype": "text/x-python",
   "name": "python",
   "nbconvert_exporter": "python",
   "pygments_lexer": "ipython3",
   "version": "3.9.16"
  },
  "orig_nbformat": 4
 },
 "nbformat": 4,
 "nbformat_minor": 2
}
