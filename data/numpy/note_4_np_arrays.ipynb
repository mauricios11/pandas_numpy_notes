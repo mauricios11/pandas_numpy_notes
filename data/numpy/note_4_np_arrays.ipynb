{
 "cells": [
  {
   "attachments": {},
   "cell_type": "markdown",
   "metadata": {},
   "source": [
    "# Creando arrays\n",
    "Numpy nos da varios métodos muy eficientes para poder crear arrays desde 0\n"
   ]
  },
  {
   "attachments": {},
   "cell_type": "markdown",
   "metadata": {},
   "source": [
    "### np.arange( )\n",
    "Este método de numpy nos permite generar arrays sin definir previamente una lista, sus argumentos son parecidos a los slices:\n",
    " * inicio del rango \n",
    " * fin del rango\n",
    " * número de saltos entre cada uno de los números\n",
    "\n",
    " así : `np.arange(inicio, fin , saltos)` $\\equiv$ `np.arange(0,10, 2)`\n",
    "\n",
    "   * *NOTA:  al igual que en los slices, no se toma en cuenta el límite (el último número del array)*\n",
    "      * *en este caso se están invocando números pares del 0 - 10 , a pesar formar parte el 10 en esta sucesión. No se colocará en el array*"
   ]
  },
  {
   "cell_type": "code",
   "execution_count": 1,
   "metadata": {},
   "outputs": [],
   "source": [
    "import numpy as np"
   ]
  },
  {
   "cell_type": "code",
   "execution_count": 2,
   "metadata": {},
   "outputs": [
    {
     "data": {
      "text/plain": [
       "array([0, 2, 4, 6, 8])"
      ]
     },
     "execution_count": 2,
     "metadata": {},
     "output_type": "execute_result"
    }
   ],
   "source": [
    "np.arange(0,10,2)"
   ]
  },
  {
   "attachments": {},
   "cell_type": "markdown",
   "metadata": {},
   "source": [
    "### np.zeros( )\n",
    "Nos permite definir estructura ó esquemas que consisten en una lista de 0's. expresados de manera predefinida como flotantes. Respecto a los argumentos podemos, definir:\n",
    "* número de elementos. Puede especificarse con **un número** (columnas) ó **dos números** (filas, columnas) \n",
    "    * Si solo especificamos un número, este será equivalente al número de columnas, tal como un vector\n",
    "        * así: `np.zeros(2)` R: *array ([0.,0.])*\n",
    "    * Si especificamos la estructura como una matriz(filas, columnas) el número de elementos será el equivalente al número de filas\n",
    "        * así: `np.zeros((2,5))` \n",
    "            * R: *array ([0.,0.],[0.,0.],[0.,0.],[0.,0.],[0.,0.])*\n",
    "   \n"
   ]
  },
  {
   "cell_type": "code",
   "execution_count": 3,
   "metadata": {},
   "outputs": [
    {
     "name": "stdout",
     "output_type": "stream",
     "text": [
      "a : [0. 0.] b: [0. 0.]\n"
     ]
    }
   ],
   "source": [
    "# un solo elemento (vector)\n",
    "a = np.zeros(2)\n",
    "\n",
    "# un elemento, pero definiéndolo como una tupla\n",
    "b = np.zeros((2,))\n",
    "\n",
    "print(f'a : {a} b: {b}')\n"
   ]
  },
  {
   "cell_type": "code",
   "execution_count": 4,
   "metadata": {},
   "outputs": [
    {
     "name": "stdout",
     "output_type": "stream",
     "text": [
      " 5 ceros dispersos en columnas: [0. 0. 0. 0. 0.] \n",
      " 5 ceros dispersos en filas: \n",
      "[[0.]\n",
      " [0.]\n",
      " [0.]\n",
      " [0.]\n",
      " [0.]]\n"
     ]
    }
   ],
   "source": [
    "# dos elementos (filas, columnas), notar que no es lo mismo al definir al menos una columna\n",
    "c = np.zeros((5)) # 5 ceros dispersos en columnas (vector)\n",
    "d = np.zeros((5,1)) # 5 ceros dispersos en filas (matriz)\n",
    "print(f' 5 ceros dispersos en columnas: {c} \\n 5 ceros dispersos en filas: \\n{d}')"
   ]
  },
  {
   "attachments": {},
   "cell_type": "markdown",
   "metadata": {},
   "source": [
    "### np.ones( )\n",
    "Es igual que `np.zeros()` pero con 1's"
   ]
  },
  {
   "cell_type": "code",
   "execution_count": 5,
   "metadata": {},
   "outputs": [
    {
     "name": "stdout",
     "output_type": "stream",
     "text": [
      "a : [1. 1. 1. 1. 1. 1. 1. 1. 1. 1.]\n",
      "b:\n",
      "  [[1. 1. 1. 1. 1. 1. 1. 1. 1. 1.]\n",
      " [1. 1. 1. 1. 1. 1. 1. 1. 1. 1.]\n",
      " [1. 1. 1. 1. 1. 1. 1. 1. 1. 1.]] \n",
      " c: \n",
      " [[[1. 1. 1. 1. 1.]\n",
      "  [1. 1. 1. 1. 1.]\n",
      "  [1. 1. 1. 1. 1.]\n",
      "  [1. 1. 1. 1. 1.]]\n",
      "\n",
      " [[1. 1. 1. 1. 1.]\n",
      "  [1. 1. 1. 1. 1.]\n",
      "  [1. 1. 1. 1. 1.]\n",
      "  [1. 1. 1. 1. 1.]]\n",
      "\n",
      " [[1. 1. 1. 1. 1.]\n",
      "  [1. 1. 1. 1. 1.]\n",
      "  [1. 1. 1. 1. 1.]\n",
      "  [1. 1. 1. 1. 1.]]]\n"
     ]
    }
   ],
   "source": [
    "# un solo elemento (vector)\n",
    "a = np.ones(10) #(columnas)\n",
    "\n",
    "# dos elementos, definiéndolos como una tupla (matriz)\n",
    "b = np.ones((3,10)) #(filas, columnas)\n",
    "\n",
    "# tres elementos, definiendo en una tupla filas, columnas, repetisiones (tensor)\n",
    "c = np.ones((3,4,5)) # número de matrices, filas, columnas\n",
    "print(f'a : {a}\\nb:\\n  {b} \\n c: \\n {c}')"
   ]
  },
  {
   "attachments": {},
   "cell_type": "markdown",
   "metadata": {},
   "source": [
    "### np.linspace( )\n",
    "\n",
    "Permite generar un array definiendo como argumento:\n",
    "* un inicio y un final\n",
    "* el largo del array (si no se coloca esta argumento, se definirá un array de 50 elementos dentro del rango colocado)\n",
    "* `dtype = ` definir el tipo `int, int16, int8, float, float16`"
   ]
  },
  {
   "cell_type": "code",
   "execution_count": 6,
   "metadata": {},
   "outputs": [
    {
     "name": "stdout",
     "output_type": "stream",
     "text": [
      " array entre 0 y 1: \n",
      "[0.         0.02040816 0.04081633 0.06122449 0.08163265 0.10204082\n",
      " 0.12244898 0.14285714 0.16326531 0.18367347 0.20408163 0.2244898\n",
      " 0.24489796 0.26530612 0.28571429 0.30612245 0.32653061 0.34693878\n",
      " 0.36734694 0.3877551  0.40816327 0.42857143 0.44897959 0.46938776\n",
      " 0.48979592 0.51020408 0.53061224 0.55102041 0.57142857 0.59183673\n",
      " 0.6122449  0.63265306 0.65306122 0.67346939 0.69387755 0.71428571\n",
      " 0.73469388 0.75510204 0.7755102  0.79591837 0.81632653 0.83673469\n",
      " 0.85714286 0.87755102 0.89795918 0.91836735 0.93877551 0.95918367\n",
      " 0.97959184 1.        ]\n",
      " shape: (50,)\n"
     ]
    }
   ],
   "source": [
    "# array con elementos entre 0 y 1\n",
    "array_linspace = np.linspace(0,1)\n",
    "print(f' array entre 0 y 1: \\n{array_linspace}\\n shape: {array_linspace.shape}')"
   ]
  },
  {
   "cell_type": "code",
   "execution_count": 7,
   "metadata": {},
   "outputs": [
    {
     "name": "stdout",
     "output_type": "stream",
     "text": [
      " array entre 1 y 100: [  1.    25.75  50.5   75.25 100.  ]\n",
      " shape: (5,)\n"
     ]
    }
   ],
   "source": [
    "# array con elementos entre 1 y 100, con un largo de 5 elementos\n",
    "array_linspace_5 = np.linspace(1,100,5)\n",
    "print(f' array entre 1 y 100: {array_linspace_5}\\n shape: {array_linspace_5.shape}')"
   ]
  },
  {
   "attachments": {},
   "cell_type": "markdown",
   "metadata": {},
   "source": [
    "### np.eye( )\n",
    "Podemos colocar unadiagonal de 1's en una matriz donde el resto son 0's, teniendo como argumento:\n",
    "* el número de 1's que habrá en una matriz, por cada \"1\" habrá una fila\n"
   ]
  },
  {
   "cell_type": "code",
   "execution_count": 8,
   "metadata": {},
   "outputs": [
    {
     "data": {
      "text/plain": [
       "array([[1., 0., 0., 0.],\n",
       "       [0., 1., 0., 0.],\n",
       "       [0., 0., 1., 0.],\n",
       "       [0., 0., 0., 1.]])"
      ]
     },
     "execution_count": 8,
     "metadata": {},
     "output_type": "execute_result"
    }
   ],
   "source": [
    "diagonal = np.eye(4)\n",
    "diagonal"
   ]
  },
  {
   "attachments": {},
   "cell_type": "markdown",
   "metadata": {},
   "source": [
    "### np.random.rand( )\n",
    "Esta función la podemos usar para crear un array con números aleatorios dentro de un **rango (0,1)**, teniendo como argumento:\n",
    "* para hacer un **vector**:\n",
    "    * el número de elementos que tendrá el array\n",
    "* haciendo una **matriz**:\n",
    "    * podría especificarse este array como una matriz especificando filas y columnas (no obligatorio)\n",
    "* haciendo un **tensor**:\n",
    "    * indicar (número de matrices, ancho/columnas, alto/filas)"
   ]
  },
  {
   "cell_type": "code",
   "execution_count": 9,
   "metadata": {},
   "outputs": [
    {
     "data": {
      "text/plain": [
       "0.949851025601617"
      ]
     },
     "execution_count": 9,
     "metadata": {},
     "output_type": "execute_result"
    }
   ],
   "source": [
    "#un número aleatorio (scalar)\n",
    "np.random.rand()"
   ]
  },
  {
   "cell_type": "code",
   "execution_count": 10,
   "metadata": {},
   "outputs": [
    {
     "data": {
      "text/plain": [
       "array([0.30556044, 0.8083437 , 0.70532865, 0.41568056])"
      ]
     },
     "execution_count": 10,
     "metadata": {},
     "output_type": "execute_result"
    }
   ],
   "source": [
    "#lista de 4 números aleatorios (vector)\n",
    "np.random.rand(4)"
   ]
  },
  {
   "cell_type": "code",
   "execution_count": 11,
   "metadata": {},
   "outputs": [
    {
     "data": {
      "text/plain": [
       "array([[0.54220385, 0.77511165, 0.94421338, 0.94488318],\n",
       "       [0.03265739, 0.24729817, 0.33815804, 0.86150641],\n",
       "       [0.60281661, 0.58498873, 0.31414528, 0.11012945]])"
      ]
     },
     "execution_count": 11,
     "metadata": {},
     "output_type": "execute_result"
    }
   ],
   "source": [
    "#matriz de 3 filas, 5 columnas con números aleatorios\n",
    "np.random.rand(3,4)"
   ]
  },
  {
   "attachments": {},
   "cell_type": "markdown",
   "metadata": {},
   "source": [
    "### np.random.randint( )\n",
    "con esta función podemos crear un array de números enteros. Respecto a los argumentos:\n",
    "* rango del número a elegir (inicio, final)\n",
    "* número de elementos que tendrá el array\n",
    "    * para hacer una matriz, este parámetro sería una tupla, indicando filas/columnas\n"
   ]
  },
  {
   "cell_type": "code",
   "execution_count": 12,
   "metadata": {},
   "outputs": [
    {
     "name": "stdout",
     "output_type": "stream",
     "text": [
      " *** enteros ***\n",
      " scalar: 8 \n",
      " vector: [11 19  2 24 19] \n",
      " matriz: \n",
      "[[55 34 86 65]\n",
      " [17 69 48 51]\n",
      " [83 61 24 81]]\n"
     ]
    }
   ],
   "source": [
    "# seleccionar un número en un rango de 3-10\n",
    "a = np.random.randint(3,10)\n",
    "\n",
    "# en un vector de 5 elementos, colocar números aleatorios entre 0 y 25\n",
    "b = np.random.randint(0,25,5)\n",
    "\n",
    "# en una matriz de  (3 filas, 4 columnas) colocar aleatroios entre 10 y 90\n",
    "c = np.random.randint(10, 90, (3,4))\n",
    "\n",
    "print(\" *** enteros ***\")\n",
    "print(f' scalar: {a} \\n vector: {b} \\n matriz: \\n{c}')"
   ]
  },
  {
   "attachments": {},
   "cell_type": "markdown",
   "metadata": {},
   "source": [
    "### np.arange( )\n",
    "\n",
    "Esta función permite hacer un array con números continuos\n",
    "* hace una lista de elementos con el rango especificado *sin contar el límite*. Estos son sus parámetros:\n",
    "\n",
    "`np.arange([ start : stop : steps ], dtype = None, * , like = None)`\n",
    "\n",
    "argumentos:\n",
    "* slices\n",
    "    * *start* : puede ser un entero (opcional)\n",
    "    * *stop* : puede ser un entero\n",
    "    * *steps* : entero (opcional)\n",
    "* `dtype = ` especificar el tipo de elemento (np.int8, np.int16, float16 )\n",
    "* `align = bool` puede ser `True` cuando un *obj* es un string separado por comas\n",
    "* `copy = bool` copia del tipo de datos, hace una referencia a un objeto de tipo de datos incorporado\n",
    "\n"
   ]
  },
  {
   "cell_type": "code",
   "execution_count": 26,
   "metadata": {},
   "outputs": [
    {
     "data": {
      "text/plain": [
       "array([0, 1, 2, 3, 4])"
      ]
     },
     "execution_count": 26,
     "metadata": {},
     "output_type": "execute_result"
    }
   ],
   "source": [
    "np.arange(5, dtype=\"int\")"
   ]
  },
  {
   "cell_type": "code",
   "execution_count": 27,
   "metadata": {},
   "outputs": [
    {
     "data": {
      "text/plain": [
       "array([1, 3, 5, 7, 9])"
      ]
     },
     "execution_count": 27,
     "metadata": {},
     "output_type": "execute_result"
    }
   ],
   "source": [
    "np.arange(1,10,2)"
   ]
  },
  {
   "cell_type": "code",
   "execution_count": null,
   "metadata": {},
   "outputs": [],
   "source": []
  }
 ],
 "metadata": {
  "kernelspec": {
   "display_name": "python_projects",
   "language": "python",
   "name": "python3"
  },
  "language_info": {
   "codemirror_mode": {
    "name": "ipython",
    "version": 3
   },
   "file_extension": ".py",
   "mimetype": "text/x-python",
   "name": "python",
   "nbconvert_exporter": "python",
   "pygments_lexer": "ipython3",
   "version": "3.9.16"
  },
  "orig_nbformat": 4
 },
 "nbformat": 4,
 "nbformat_minor": 2
}
