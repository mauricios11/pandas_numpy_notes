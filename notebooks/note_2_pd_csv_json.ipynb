{
 "cells": [
  {
   "attachments": {},
   "cell_type": "markdown",
   "metadata": {},
   "source": [
    "# Leer archivos CSV y JSON\n",
    "Para poder leer archivos encontrados en internet (kaggle)\n"
   ]
  },
  {
   "cell_type": "code",
   "execution_count": 2,
   "metadata": {},
   "outputs": [],
   "source": [
    "import numpy as np\n",
    "import pandas as pd"
   ]
  },
  {
   "cell_type": "code",
   "execution_count": 1,
   "metadata": {},
   "outputs": [],
   "source": [
    "path_csv = \"../data/bestsellers_with_categories.csv\"\n",
    "path_json = \"../data/HPCharactersDataRaw.json\""
   ]
  },
  {
   "attachments": {},
   "cell_type": "markdown",
   "metadata": {},
   "source": []
  },
  {
   "attachments": {},
   "cell_type": "markdown",
   "metadata": {},
   "source": [
    "Para leer un archivo *csv* usamos la función `read_csv()` que tendrá los siguientes parámetros:\n",
    " * `sep`: lo usamos para especificar de qué manera están separados los elementos del dataset\n",
    "   * puede ser un `','` ó un `'|'` dependiendo de cómo estén separados, se usará alguno\n",
    "\n",
    "* `header`: lo usamos para declarar que son los títulos de los datos ó características que describen el DF\n",
    "  * algunos archivos no tienen este atributo, paraarreglarlo se usa este parámetro, donde se especifica el índice de la fila donde estaría ubicado el header. LLevando hasta arriba los valores que se encuentran en esta posición\n",
    "  * Si el df **no** tiene un header, lo que podríamos hacer es especificar este parámetro como `header = None`\n",
    "\n",
    "* `names`: lo usamos para definir el nombre de los atributos (headers)\n",
    " * si se quiere sacar el nombre desde el dataset, se puede extraer invocando a `df.columns` y muestra los elementos de la fila \"0\" siendo cada elemento una columna\n",
    "\n",
    "podemos colocar estos `names =`  ó si se necesita cambiar los nombres de los atributos, se puede hacer desde aquí"
   ]
  },
  {
   "attachments": {},
   "cell_type": "markdown",
   "metadata": {},
   "source": []
  },
  {
   "cell_type": "markdown",
   "metadata": {},
   "source": []
  },
  {
   "cell_type": "code",
   "execution_count": 8,
   "metadata": {},
   "outputs": [
    {
     "ename": "NameError",
     "evalue": "name 'path_csv' is not defined",
     "output_type": "error",
     "traceback": [
      "\u001b[0;31m---------------------------------------------------------------------------\u001b[0m",
      "\u001b[0;31mNameError\u001b[0m                                 Traceback (most recent call last)",
      "Cell \u001b[0;32mIn[8], line 3\u001b[0m\n\u001b[1;32m      1\u001b[0m names \u001b[39m=\u001b[39m [\u001b[39m'\u001b[39m\u001b[39mNombre\u001b[39m\u001b[39m'\u001b[39m, \u001b[39m'\u001b[39m\u001b[39mAutor\u001b[39m\u001b[39m'\u001b[39m, \u001b[39m'\u001b[39m\u001b[39mCalificacion\u001b[39m\u001b[39m'\u001b[39m, \u001b[39m'\u001b[39m\u001b[39mReviews\u001b[39m\u001b[39m'\u001b[39m, \u001b[39m'\u001b[39m\u001b[39mPrecio\u001b[39m\u001b[39m'\u001b[39m, \u001b[39m'\u001b[39m\u001b[39mAño\u001b[39m\u001b[39m'\u001b[39m, \u001b[39m'\u001b[39m\u001b[39mGenero\u001b[39m\u001b[39m'\u001b[39m ]\n\u001b[0;32m----> 3\u001b[0m data \u001b[39m=\u001b[39m pd\u001b[39m.\u001b[39mread_csv(path_csv, sep \u001b[39m=\u001b[39m \u001b[39m\"\u001b[39m\u001b[39m,\u001b[39m\u001b[39m\"\u001b[39m, header \u001b[39m=\u001b[39m \u001b[39m0\u001b[39m , names \u001b[39m=\u001b[39m names)\n\u001b[1;32m      4\u001b[0m data\u001b[39m.\u001b[39mhead()\n",
      "\u001b[0;31mNameError\u001b[0m: name 'path_csv' is not defined"
     ]
    }
   ],
   "source": [
    "names = ['Nombre', 'Autor', 'Calificacion', 'Reviews', 'Precio', 'Año', 'Genero' ]\n",
    "\n",
    "data = pd.read_csv(path_csv, sep = \",\", header = 0 , names = names)\n",
    "data.head()"
   ]
  },
  {
   "attachments": {},
   "cell_type": "markdown",
   "metadata": {},
   "source": [
    "## Cargando un json\n",
    "El archivo json es parecido al un diccionario, por lo que solo hay que invocar a la función `read_json` y  enviarle el archivo.json "
   ]
  },
  {
   "cell_type": "code",
   "execution_count": null,
   "metadata": {},
   "outputs": [],
   "source": [
    "data_json = pd.read_json()"
   ]
  }
 ],
 "metadata": {
  "kernelspec": {
   "display_name": "python_projects",
   "language": "python",
   "name": "python3"
  },
  "language_info": {
   "codemirror_mode": {
    "name": "ipython",
    "version": 3
   },
   "file_extension": ".py",
   "mimetype": "text/x-python",
   "name": "python",
   "nbconvert_exporter": "python",
   "pygments_lexer": "ipython3",
   "version": "3.9.16"
  },
  "orig_nbformat": 4
 },
 "nbformat": 4,
 "nbformat_minor": 2
}
