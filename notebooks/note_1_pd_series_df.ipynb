{
 "cells": [
  {
   "attachments": {},
   "cell_type": "markdown",
   "metadata": {},
   "source": [
    "# Series y Dataframes en pandas\n",
    " Pandas es una libería de pythn especializada en el manejo de análisis de estructuras de datos. El nombre viene de \"Panel data\"\n",
    "\n",
    "### características:\n",
    "* velocidad\n",
    "* poco código\n",
    "* múltiples formatos de archivos\n",
    "* alineación inteligente\n",
    "\n",
    "## Pandas Series\n",
    "Es un array *unidimensional* indexado\n",
    "Es muy parecido a un array de una deimensión (o vector) de numpy en él podemos hacer: \n",
    "* array unidimensional indexado\n",
    "* búsqueda por índice\n",
    "* slicing\n",
    "* operaciones aritméticas\n",
    "* Distintos tipos de datos\n",
    "\n",
    "`pd.Series(['lista'], index = [indices] )`\n",
    "* es posible acceder a los números de índice usando `series.index`\n",
    "\n",
    "## Pandas DataFrame\n",
    "Muy parecido a las estructuras matriciales trabajadas con numpy\n",
    "* Estructura principal\n",
    "* array de dos dimensiones\n",
    "* búsqueda por índice (columnas ó filas)\n",
    "* slicing\n",
    "* operaciones aritméticas\n",
    "* distintos tipos de datos\n",
    "* tamaño variable\n",
    "\n",
    "`pd.DataFrame(json/dict, index= indice)`\n",
    "* es posible acceder a los números de índice usando `df.index` y también a las columnas `df.columns`"
   ]
  },
  {
   "cell_type": "code",
   "execution_count": 1,
   "metadata": {},
   "outputs": [],
   "source": [
    "import pandas as pd"
   ]
  },
  {
   "attachments": {},
   "cell_type": "markdown",
   "metadata": {},
   "source": [
    "Antes, veamos cómo se vería un diccionario con dos listas usando solo python"
   ]
  },
  {
   "cell_type": "code",
   "execution_count": 22,
   "metadata": {},
   "outputs": [
    {
     "data": {
      "text/plain": [
       "{'Navas': 1, 'Mbappe': 7, 'Neymar': 10, 'Messi': 30}"
      ]
     },
     "execution_count": 22,
     "metadata": {},
     "output_type": "execute_result"
    }
   ],
   "source": [
    "\n",
    "indices = [1,7,10,30]\n",
    "jugadores = ['Navas','Mbappe','Neymar','Messi']\n",
    "\n",
    "zipped_list = zip(indices,jugadores)\n",
    "#{item[0]: item[1] for item in zipped_list}\n",
    "\n",
    "# otra forma de hacerlo\n",
    "diccionario = {}\n",
    "for i in range(len(jugadores)):\n",
    "    diccionario[indices[i]] = jugadores[i]\n",
    "    \n",
    "diccionario\n",
    "\n",
    "#otra forma de hacerlo\n",
    "diccionario_1 = dict(zip(jugadores,indices))\n",
    "diccionario_1\n"
   ]
  },
  {
   "attachments": {},
   "cell_type": "markdown",
   "metadata": {},
   "source": [
    "### Pandas series\n",
    "Por medio de la función Definimos una lista con índices específicos"
   ]
  },
  {
   "cell_type": "code",
   "execution_count": 19,
   "metadata": {},
   "outputs": [
    {
     "data": {
      "text/plain": [
       "1      Navas\n",
       "7     Mbappe\n",
       "10    Neymar\n",
       "30     Messi\n",
       "dtype: object"
      ]
     },
     "execution_count": 19,
     "metadata": {},
     "output_type": "execute_result"
    }
   ],
   "source": [
    "jugadores_psg = pd.Series(['Navas','Mbappe','Neymar','Messi'], index = [1,7,10,30])\n",
    "jugadores_psg"
   ]
  },
  {
   "cell_type": "code",
   "execution_count": 27,
   "metadata": {},
   "outputs": [
    {
     "data": {
      "text/plain": [
       "1      Navas\n",
       "7     Mbappe\n",
       "10    Neymar\n",
       "30     Messi\n",
       "dtype: object"
      ]
     },
     "execution_count": 27,
     "metadata": {},
     "output_type": "execute_result"
    }
   ],
   "source": [
    "# Búsqueda por índices usando pandas series\n",
    "#diccionario = {jugadores: indices for jugadores, indices in zip(jugadores, indices)}\n",
    "diccionario_psg = dict(zip(indices, jugadores))\n",
    "\n",
    "psg_series = pd.Series(diccionario_psg)\n",
    "psg_series"
   ]
  },
  {
   "cell_type": "code",
   "execution_count": 28,
   "metadata": {},
   "outputs": [
    {
     "data": {
      "text/plain": [
       "'Mbappe'"
      ]
     },
     "execution_count": 28,
     "metadata": {},
     "output_type": "execute_result"
    }
   ],
   "source": [
    "# dados los índices: [1,7,10,30] invocamos al 7\n",
    "psg_series[7]"
   ]
  },
  {
   "attachments": {},
   "cell_type": "markdown",
   "metadata": {},
   "source": [
    "Búsqueda mediande slices"
   ]
  },
  {
   "cell_type": "code",
   "execution_count": 33,
   "metadata": {},
   "outputs": [
    {
     "data": {
      "text/plain": [
       "1     Navas\n",
       "7    Mbappe\n",
       "dtype: object"
      ]
     },
     "execution_count": 33,
     "metadata": {},
     "output_type": "execute_result"
    }
   ],
   "source": [
    "# los últimos 2 jugadores\n",
    "psg_series[: :-2]\n",
    "\n",
    "#los primeros 2 jugadores\n",
    "psg_series[:2]"
   ]
  },
  {
   "attachments": {},
   "cell_type": "markdown",
   "metadata": {},
   "source": [
    "Pandas similar a una estructura matricial"
   ]
  },
  {
   "cell_type": "code",
   "execution_count": 58,
   "metadata": {},
   "outputs": [
    {
     "data": {
      "text/plain": [
       "{'jugador': ['Navas', 'Mbappe', 'Neymar', 'Messi'],\n",
       " 'altura': [180.0, 170.0, 170.0, 163.0],\n",
       " 'goles': [2, 200, 150, 500]}"
      ]
     },
     "execution_count": 58,
     "metadata": {},
     "output_type": "execute_result"
    }
   ],
   "source": [
    "#para practicar, convertirmos comenzamos con listas, para finalmente obtener un json\n",
    "jug = ['Navas','Mbappe','Neymar','Messi']\n",
    "alt = [180.0, 170.0, 170.0, 163.0]\n",
    "gol = [2,200,150,500]\n",
    "\n",
    "# agregamos los values en una lista\n",
    "#values = [[jug[i], alt[i], gol[i]] for i in range(len(jug))] #esta es una lista de listas que no usaremos\n",
    "values = [jug, alt, gol]\n",
    "keys = ['jugador', 'altura', 'goles']\n",
    "\n",
    "\n",
    "psg_dict = {keys : values for keys, values in zip(keys,values)}\n",
    "psg_dict"
   ]
  },
  {
   "cell_type": "code",
   "execution_count": 59,
   "metadata": {},
   "outputs": [
    {
     "data": {
      "text/html": [
       "<div>\n",
       "<style scoped>\n",
       "    .dataframe tbody tr th:only-of-type {\n",
       "        vertical-align: middle;\n",
       "    }\n",
       "\n",
       "    .dataframe tbody tr th {\n",
       "        vertical-align: top;\n",
       "    }\n",
       "\n",
       "    .dataframe thead th {\n",
       "        text-align: right;\n",
       "    }\n",
       "</style>\n",
       "<table border=\"1\" class=\"dataframe\">\n",
       "  <thead>\n",
       "    <tr style=\"text-align: right;\">\n",
       "      <th></th>\n",
       "      <th>jugador</th>\n",
       "      <th>altura</th>\n",
       "      <th>goles</th>\n",
       "    </tr>\n",
       "  </thead>\n",
       "  <tbody>\n",
       "    <tr>\n",
       "      <th>1</th>\n",
       "      <td>Navas</td>\n",
       "      <td>180.0</td>\n",
       "      <td>2</td>\n",
       "    </tr>\n",
       "    <tr>\n",
       "      <th>7</th>\n",
       "      <td>Mbappe</td>\n",
       "      <td>170.0</td>\n",
       "      <td>200</td>\n",
       "    </tr>\n",
       "    <tr>\n",
       "      <th>10</th>\n",
       "      <td>Neymar</td>\n",
       "      <td>170.0</td>\n",
       "      <td>150</td>\n",
       "    </tr>\n",
       "    <tr>\n",
       "      <th>30</th>\n",
       "      <td>Messi</td>\n",
       "      <td>163.0</td>\n",
       "      <td>500</td>\n",
       "    </tr>\n",
       "  </tbody>\n",
       "</table>\n",
       "</div>"
      ],
      "text/plain": [
       "   jugador  altura  goles\n",
       "1    Navas   180.0      2\n",
       "7   Mbappe   170.0    200\n",
       "10  Neymar   170.0    150\n",
       "30   Messi   163.0    500"
      ]
     },
     "execution_count": 59,
     "metadata": {},
     "output_type": "execute_result"
    }
   ],
   "source": [
    "numeros_indice = [1,7,10,30]\n",
    "psg_df = pd.DataFrame(psg_dict, index = numeros_indice)\n",
    "psg_df"
   ]
  },
  {
   "attachments": {},
   "cell_type": "markdown",
   "metadata": {},
   "source": [
    "búsqueda por slices"
   ]
  },
  {
   "cell_type": "code",
   "execution_count": 64,
   "metadata": {},
   "outputs": [
    {
     "data": {
      "text/html": [
       "<div>\n",
       "<style scoped>\n",
       "    .dataframe tbody tr th:only-of-type {\n",
       "        vertical-align: middle;\n",
       "    }\n",
       "\n",
       "    .dataframe tbody tr th {\n",
       "        vertical-align: top;\n",
       "    }\n",
       "\n",
       "    .dataframe thead th {\n",
       "        text-align: right;\n",
       "    }\n",
       "</style>\n",
       "<table border=\"1\" class=\"dataframe\">\n",
       "  <thead>\n",
       "    <tr style=\"text-align: right;\">\n",
       "      <th></th>\n",
       "      <th>jugador</th>\n",
       "      <th>altura</th>\n",
       "      <th>goles</th>\n",
       "    </tr>\n",
       "  </thead>\n",
       "  <tbody>\n",
       "    <tr>\n",
       "      <th>7</th>\n",
       "      <td>Mbappe</td>\n",
       "      <td>170.0</td>\n",
       "      <td>200</td>\n",
       "    </tr>\n",
       "    <tr>\n",
       "      <th>10</th>\n",
       "      <td>Neymar</td>\n",
       "      <td>170.0</td>\n",
       "      <td>150</td>\n",
       "    </tr>\n",
       "  </tbody>\n",
       "</table>\n",
       "</div>"
      ],
      "text/plain": [
       "   jugador  altura  goles\n",
       "7   Mbappe   170.0    200\n",
       "10  Neymar   170.0    150"
      ]
     },
     "execution_count": 64,
     "metadata": {},
     "output_type": "execute_result"
    }
   ],
   "source": [
    "#los últimas 2 filas\n",
    "psg_df[::-2]\n",
    "\n",
    "# de la segunda  a la tercer fila (sin contar el límite)\n",
    "psg_df[1:3]"
   ]
  },
  {
   "cell_type": "code",
   "execution_count": 65,
   "metadata": {},
   "outputs": [
    {
     "data": {
      "text/plain": [
       "Index([1, 7, 10, 30], dtype='int64')"
      ]
     },
     "execution_count": 65,
     "metadata": {},
     "output_type": "execute_result"
    }
   ],
   "source": [
    "#busqueda por indice\n",
    "psg_df.index"
   ]
  },
  {
   "attachments": {},
   "cell_type": "markdown",
   "metadata": {},
   "source": [
    "ejercicio: limpienado datos"
   ]
  },
  {
   "cell_type": "code",
   "execution_count": 67,
   "metadata": {},
   "outputs": [
    {
     "name": "stdout",
     "output_type": "stream",
     "text": [
      "{'Jugador': ['Luis SuArez', 'Jorge Molina', 'Antonio Puertas', 'GermAn SAnchez', 'Luis Milla', 'LuAs Manuel Arantes Maximiano'], 'PosiciÃ³n': ['Delantero', 'Delantero', 'Centrocampista', 'Defensa', 'Centrocampista', 'Portero'], 'NÃºmero': ['9', '23', '10', '6', '5', '1'], 'Altura': ['185.0', '187.0', '185.0', '187.0', '175.0', '190.0'], 'Goles': ['7', '7', '5', '2', '2', '0']}\n"
     ]
    }
   ],
   "source": [
    "import unicodedata\n",
    "\n",
    "diccionario = {'Jugador':['Luis SuÃ¡rez','Jorge Molina', 'Antonio Puertas', 'GermÃ¡n SÃ¡nchez', 'Luis Milla', 'LuÃ­s Manuel Arantes Maximiano'],\n",
    "'PosiciÃ³n':['Delantero', 'Delantero', 'Centrocampista', 'Defensa', 'Centrocampista', 'Portero'],\n",
    "'NÃºmero':[9, 23, 10, 6, 5, 1],\n",
    "'Altura':[185.0, 187.0, 185.0, 187.0, 175.0, 190.0],\n",
    "'Goles':[7, 7, 5, 2, 2, 0]}\n",
    "\n",
    "# Iterar a través del diccionario y normalizar los valores de las claves que contienen caracteres acentuados\n",
    "for key, value in diccionario.items():\n",
    "    if isinstance(value, list):\n",
    "        diccionario[key] = [unicodedata.normalize('NFKD', v.encode('latin1').decode('utf-8')).encode('ASCII', 'ignore').decode('utf-8') for v in value]\n",
    "    else:\n",
    "        diccionario[key] = unicodedata.normalize('NFKD', value.encode('latin1').decode('utf-8')).encode('ASCII', 'ignore').decode('utf-8')\n",
    "\n",
    "# Imprimir el diccionario actualizado\n",
    "print(diccionario)"
   ]
  },
  {
   "cell_type": "code",
   "execution_count": 73,
   "metadata": {},
   "outputs": [
    {
     "data": {
      "text/plain": [
       "Index(['jugador', 'altura', 'goles'], dtype='object')"
      ]
     },
     "execution_count": 73,
     "metadata": {},
     "output_type": "execute_result"
    }
   ],
   "source": [
    "psg_df.columns"
   ]
  },
  {
   "cell_type": "code",
   "execution_count": null,
   "metadata": {},
   "outputs": [],
   "source": []
  }
 ],
 "metadata": {
  "kernelspec": {
   "display_name": "python_projects",
   "language": "python",
   "name": "python3"
  },
  "language_info": {
   "codemirror_mode": {
    "name": "ipython",
    "version": 3
   },
   "file_extension": ".py",
   "mimetype": "text/x-python",
   "name": "python",
   "nbconvert_exporter": "python",
   "pygments_lexer": "ipython3",
   "version": "3.9.16"
  },
  "orig_nbformat": 4
 },
 "nbformat": 4,
 "nbformat_minor": 2
}
