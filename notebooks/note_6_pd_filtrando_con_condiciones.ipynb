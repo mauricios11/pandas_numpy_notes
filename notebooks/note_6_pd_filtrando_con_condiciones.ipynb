{
 "cells": [
  {
   "attachments": {},
   "cell_type": "markdown",
   "metadata": {},
   "source": [
    "# Filtrando por condiciones\n",
    "\n",
    "*Filtrar condiciones puede ser muy útil para llevar datos específicos a  un ETL ó un algoritmo de ML*\n",
    "\n",
    "\n",
    "Funciona por lógica booleana y retorna los valores que están en `True`. Es muy util porque en operaciones queremos filtrar ó separar datos\n",
    "\n",
    "Para este tema se seguirá usando un dataset con datos de libros\n",
    "\n",
    "### Mostrar datos que sean mayores a cierto valor\n",
    "`mayor_2016 = df_books['Year'] > 2016`: filtrar las filas que tengan un año mayor a 2016\n",
    "  * recordar que esto devuelve una lógica booleana \n",
    "    * para aplicar la condicion en el df y ver las filas, la invodamos : `df_books[mayor_2016]`\n",
    "\n",
    "\n",
    "### Mostrar datos que sean iguales a cierto valor\n",
    " `genero_ficcion =  df_books['Genero'] == \"Fiction\"` : muestra un series con valores booleanos, siendo `True` para valores booleanos\n",
    "\n",
    "### Filtrando por varias condiciones\n",
    "`df_books[mayor_2016 & genero_ficcion]` : filtrar las filas que tengan ambas condiciones al mismo tiempo\n",
    " * concatenamos las condiciones con el operador `&`\n",
    "\n",
    "### Filtrando por negación \n",
    "`df_books[mayor_2016 &~ genero_ficcion]`: filtrar filas que tengan un año mayor a 2016 pero que NO sean Ficción\n",
    " * para negar una condición usamos el operador `~`\n",
    "\n",
    "\n"
   ]
  },
  {
   "cell_type": "code",
   "execution_count": 1,
   "metadata": {},
   "outputs": [],
   "source": [
    "import pandas as pd"
   ]
  },
  {
   "cell_type": "code",
   "execution_count": 4,
   "metadata": {},
   "outputs": [
    {
     "data": {
      "text/html": [
       "<div>\n",
       "<style scoped>\n",
       "    .dataframe tbody tr th:only-of-type {\n",
       "        vertical-align: middle;\n",
       "    }\n",
       "\n",
       "    .dataframe tbody tr th {\n",
       "        vertical-align: top;\n",
       "    }\n",
       "\n",
       "    .dataframe thead th {\n",
       "        text-align: right;\n",
       "    }\n",
       "</style>\n",
       "<table border=\"1\" class=\"dataframe\">\n",
       "  <thead>\n",
       "    <tr style=\"text-align: right;\">\n",
       "      <th></th>\n",
       "      <th>Nombre</th>\n",
       "      <th>Autor</th>\n",
       "      <th>Aprobacion</th>\n",
       "      <th>Reviews</th>\n",
       "      <th>Precio</th>\n",
       "      <th>Año</th>\n",
       "      <th>Genero</th>\n",
       "    </tr>\n",
       "  </thead>\n",
       "  <tbody>\n",
       "    <tr>\n",
       "      <th>0</th>\n",
       "      <td>10-Day Green Smoothie Cleanse</td>\n",
       "      <td>JJ Smith</td>\n",
       "      <td>4.7</td>\n",
       "      <td>17350</td>\n",
       "      <td>8</td>\n",
       "      <td>2016</td>\n",
       "      <td>Non Fiction</td>\n",
       "    </tr>\n",
       "    <tr>\n",
       "      <th>1</th>\n",
       "      <td>11/22/63: A Novel</td>\n",
       "      <td>Stephen King</td>\n",
       "      <td>4.6</td>\n",
       "      <td>2052</td>\n",
       "      <td>22</td>\n",
       "      <td>2011</td>\n",
       "      <td>Fiction</td>\n",
       "    </tr>\n",
       "    <tr>\n",
       "      <th>2</th>\n",
       "      <td>12 Rules for Life: An Antidote to Chaos</td>\n",
       "      <td>Jordan B. Peterson</td>\n",
       "      <td>4.7</td>\n",
       "      <td>18979</td>\n",
       "      <td>15</td>\n",
       "      <td>2018</td>\n",
       "      <td>Non Fiction</td>\n",
       "    </tr>\n",
       "  </tbody>\n",
       "</table>\n",
       "</div>"
      ],
      "text/plain": [
       "                                    Nombre               Autor  Aprobacion   \n",
       "0            10-Day Green Smoothie Cleanse            JJ Smith         4.7  \\\n",
       "1                        11/22/63: A Novel        Stephen King         4.6   \n",
       "2  12 Rules for Life: An Antidote to Chaos  Jordan B. Peterson         4.7   \n",
       "\n",
       "   Reviews  Precio   Año       Genero  \n",
       "0    17350       8  2016  Non Fiction  \n",
       "1     2052      22  2011      Fiction  \n",
       "2    18979      15  2018  Non Fiction  "
      ]
     },
     "execution_count": 4,
     "metadata": {},
     "output_type": "execute_result"
    }
   ],
   "source": [
    "path = \"../data/bestsellers_with_categories.csv\"\n",
    "names = ['Nombre', 'Autor', 'Aprobacion', 'Reviews', 'Precio', 'Año', 'Genero']\n",
    "\n",
    "data = pd.read_csv(path, sep= \",\", header = 0, names = names)\n",
    "df_books = pd.DataFrame(data, columns = names)\n",
    "df_books.head(3)"
   ]
  },
  {
   "cell_type": "code",
   "execution_count": 68,
   "metadata": {},
   "outputs": [
    {
     "data": {
      "text/plain": [
       "550"
      ]
     },
     "execution_count": 68,
     "metadata": {},
     "output_type": "execute_result"
    }
   ],
   "source": [
    "# número de filas totales\n",
    "df_books.shape[0]"
   ]
  },
  {
   "cell_type": "code",
   "execution_count": 62,
   "metadata": {},
   "outputs": [
    {
     "data": {
      "text/plain": [
       "0    False\n",
       "1    False\n",
       "2     True\n",
       "3     True\n",
       "4     True\n",
       "Name: Año, dtype: bool"
      ]
     },
     "execution_count": 62,
     "metadata": {},
     "output_type": "execute_result"
    }
   ],
   "source": [
    "#filtrar filas que tengan un \"año > 2016\"\n",
    "mayor_2016 = df_books[\"Año\"] > 2016 # recordar que esto devuelve un booleano\n",
    "#df_books[mayor_2016]# para ver las filas aplicamos esta condición al df\n",
    "\n",
    "# filtrar filas que tengan un \"Genero = Fiction\"\n",
    "gen_fiction = df_books[\"Genero\"]  == \"Fiction\"\n",
    "\n",
    "mayor_2016.head()"
   ]
  },
  {
   "cell_type": "code",
   "execution_count": 69,
   "metadata": {},
   "outputs": [
    {
     "name": "stdout",
     "output_type": "stream",
     "text": [
      "número de filas con genero \"Fiction\": 240\n"
     ]
    }
   ],
   "source": [
    "# invocar condición y ver el número de filas que la cumplen\n",
    "\n",
    "df_books[gen_fiction] # invocamos condición \n",
    "sum_gen_fiction = gen_fiction.sum() # sumamos todas las filas\n",
    "\n",
    "print(f'número de filas con genero \"Fiction\": {sum_gen_fiction}')"
   ]
  },
  {
   "cell_type": "code",
   "execution_count": 42,
   "metadata": {},
   "outputs": [
    {
     "data": {
      "text/html": [
       "<div>\n",
       "<style scoped>\n",
       "    .dataframe tbody tr th:only-of-type {\n",
       "        vertical-align: middle;\n",
       "    }\n",
       "\n",
       "    .dataframe tbody tr th {\n",
       "        vertical-align: top;\n",
       "    }\n",
       "\n",
       "    .dataframe thead th {\n",
       "        text-align: right;\n",
       "    }\n",
       "</style>\n",
       "<table border=\"1\" class=\"dataframe\">\n",
       "  <thead>\n",
       "    <tr style=\"text-align: right;\">\n",
       "      <th></th>\n",
       "      <th>Nombre</th>\n",
       "      <th>Autor</th>\n",
       "      <th>Aprobacion</th>\n",
       "      <th>Reviews</th>\n",
       "      <th>Precio</th>\n",
       "      <th>Año</th>\n",
       "      <th>Genero</th>\n",
       "    </tr>\n",
       "  </thead>\n",
       "  <tbody>\n",
       "    <tr>\n",
       "      <th>3</th>\n",
       "      <td>1984 (Signet Classics)</td>\n",
       "      <td>George Orwell</td>\n",
       "      <td>4.7</td>\n",
       "      <td>21424</td>\n",
       "      <td>6</td>\n",
       "      <td>2017</td>\n",
       "      <td>Fiction</td>\n",
       "    </tr>\n",
       "    <tr>\n",
       "      <th>7</th>\n",
       "      <td>A Gentleman in Moscow: A Novel</td>\n",
       "      <td>Amor Towles</td>\n",
       "      <td>4.7</td>\n",
       "      <td>19699</td>\n",
       "      <td>15</td>\n",
       "      <td>2017</td>\n",
       "      <td>Fiction</td>\n",
       "    </tr>\n",
       "    <tr>\n",
       "      <th>10</th>\n",
       "      <td>A Man Called Ove: A Novel</td>\n",
       "      <td>Fredrik Backman</td>\n",
       "      <td>4.6</td>\n",
       "      <td>23848</td>\n",
       "      <td>8</td>\n",
       "      <td>2017</td>\n",
       "      <td>Fiction</td>\n",
       "    </tr>\n",
       "    <tr>\n",
       "      <th>13</th>\n",
       "      <td>A Wrinkle in Time (Time Quintet)</td>\n",
       "      <td>Madeleine L'Engle</td>\n",
       "      <td>4.5</td>\n",
       "      <td>5153</td>\n",
       "      <td>5</td>\n",
       "      <td>2018</td>\n",
       "      <td>Fiction</td>\n",
       "    </tr>\n",
       "    <tr>\n",
       "      <th>40</th>\n",
       "      <td>Brown Bear, Brown Bear, What Do You See?</td>\n",
       "      <td>Bill Martin Jr.</td>\n",
       "      <td>4.9</td>\n",
       "      <td>14344</td>\n",
       "      <td>5</td>\n",
       "      <td>2017</td>\n",
       "      <td>Fiction</td>\n",
       "    </tr>\n",
       "    <tr>\n",
       "      <th>...</th>\n",
       "      <td>...</td>\n",
       "      <td>...</td>\n",
       "      <td>...</td>\n",
       "      <td>...</td>\n",
       "      <td>...</td>\n",
       "      <td>...</td>\n",
       "      <td>...</td>\n",
       "    </tr>\n",
       "    <tr>\n",
       "      <th>509</th>\n",
       "      <td>To Kill a Mockingbird</td>\n",
       "      <td>Harper Lee</td>\n",
       "      <td>4.8</td>\n",
       "      <td>26234</td>\n",
       "      <td>7</td>\n",
       "      <td>2019</td>\n",
       "      <td>Fiction</td>\n",
       "    </tr>\n",
       "    <tr>\n",
       "      <th>529</th>\n",
       "      <td>What Should Danny Do? (The Power to Choose Ser...</td>\n",
       "      <td>Adir Levy</td>\n",
       "      <td>4.8</td>\n",
       "      <td>8170</td>\n",
       "      <td>13</td>\n",
       "      <td>2019</td>\n",
       "      <td>Fiction</td>\n",
       "    </tr>\n",
       "    <tr>\n",
       "      <th>534</th>\n",
       "      <td>Where the Crawdads Sing</td>\n",
       "      <td>Delia Owens</td>\n",
       "      <td>4.8</td>\n",
       "      <td>87841</td>\n",
       "      <td>15</td>\n",
       "      <td>2019</td>\n",
       "      <td>Fiction</td>\n",
       "    </tr>\n",
       "    <tr>\n",
       "      <th>544</th>\n",
       "      <td>Wonder</td>\n",
       "      <td>R. J. Palacio</td>\n",
       "      <td>4.8</td>\n",
       "      <td>21625</td>\n",
       "      <td>9</td>\n",
       "      <td>2017</td>\n",
       "      <td>Fiction</td>\n",
       "    </tr>\n",
       "    <tr>\n",
       "      <th>545</th>\n",
       "      <td>Wrecking Ball (Diary of a Wimpy Kid Book 14)</td>\n",
       "      <td>Jeff Kinney</td>\n",
       "      <td>4.9</td>\n",
       "      <td>9413</td>\n",
       "      <td>8</td>\n",
       "      <td>2019</td>\n",
       "      <td>Fiction</td>\n",
       "    </tr>\n",
       "  </tbody>\n",
       "</table>\n",
       "<p>65 rows × 7 columns</p>\n",
       "</div>"
      ],
      "text/plain": [
       "                                                Nombre              Autor   \n",
       "3                               1984 (Signet Classics)      George Orwell  \\\n",
       "7                       A Gentleman in Moscow: A Novel        Amor Towles   \n",
       "10                           A Man Called Ove: A Novel    Fredrik Backman   \n",
       "13                    A Wrinkle in Time (Time Quintet)  Madeleine L'Engle   \n",
       "40            Brown Bear, Brown Bear, What Do You See?    Bill Martin Jr.   \n",
       "..                                                 ...                ...   \n",
       "509                              To Kill a Mockingbird         Harper Lee   \n",
       "529  What Should Danny Do? (The Power to Choose Ser...          Adir Levy   \n",
       "534                            Where the Crawdads Sing        Delia Owens   \n",
       "544                                             Wonder      R. J. Palacio   \n",
       "545       Wrecking Ball (Diary of a Wimpy Kid Book 14)        Jeff Kinney   \n",
       "\n",
       "     Aprobacion  Reviews  Precio   Año   Genero  \n",
       "3           4.7    21424       6  2017  Fiction  \n",
       "7           4.7    19699      15  2017  Fiction  \n",
       "10          4.6    23848       8  2017  Fiction  \n",
       "13          4.5     5153       5  2018  Fiction  \n",
       "40          4.9    14344       5  2017  Fiction  \n",
       "..          ...      ...     ...   ...      ...  \n",
       "509         4.8    26234       7  2019  Fiction  \n",
       "529         4.8     8170      13  2019  Fiction  \n",
       "534         4.8    87841      15  2019  Fiction  \n",
       "544         4.8    21625       9  2017  Fiction  \n",
       "545         4.9     9413       8  2019  Fiction  \n",
       "\n",
       "[65 rows x 7 columns]"
      ]
     },
     "execution_count": 42,
     "metadata": {},
     "output_type": "execute_result"
    }
   ],
   "source": [
    "# filtrar filas que cumplan ambas condiciones\n",
    "df_books[mayor_2016 & gen_fiction]"
   ]
  },
  {
   "cell_type": "code",
   "execution_count": 59,
   "metadata": {},
   "outputs": [
    {
     "data": {
      "text/plain": [
       "85"
      ]
     },
     "execution_count": 59,
     "metadata": {},
     "output_type": "execute_result"
    }
   ],
   "source": [
    "# filas con año mayor a 2016 pero NO \"Fiction\"\n",
    "mayor_2016_No_fiction = df_books[mayor_2016 &~gen_fiction]#[\"Año\"].count()\n",
    "mayor_2016_No_fiction[\"Año\"].count() # número de filas que cumplen la condición"
   ]
  },
  {
   "cell_type": "code",
   "execution_count": 54,
   "metadata": {},
   "outputs": [
    {
     "data": {
      "text/plain": [
       "65"
      ]
     },
     "execution_count": 54,
     "metadata": {},
     "output_type": "execute_result"
    }
   ],
   "source": [
    "# número de columnas con ambas condiciones\n",
    "(mayor_2016 & gen_fiction).sum()\n",
    "\n",
    "# otra forma de hacerlo\n",
    "fiction_mayor_2016 = df_books[mayor_2016 & gen_fiction][\"Genero\"].count()\n",
    "fiction_mayor_2016"
   ]
  },
  {
   "cell_type": "code",
   "execution_count": 67,
   "metadata": {},
   "outputs": [
    {
     "data": {
      "text/plain": [
       "550"
      ]
     },
     "execution_count": 67,
     "metadata": {},
     "output_type": "execute_result"
    }
   ],
   "source": []
  },
  {
   "cell_type": "code",
   "execution_count": null,
   "metadata": {},
   "outputs": [],
   "source": []
  }
 ],
 "metadata": {
  "kernelspec": {
   "display_name": "python_projects",
   "language": "python",
   "name": "python3"
  },
  "language_info": {
   "codemirror_mode": {
    "name": "ipython",
    "version": 3
   },
   "file_extension": ".py",
   "mimetype": "text/x-python",
   "name": "python",
   "nbconvert_exporter": "python",
   "pygments_lexer": "ipython3",
   "version": "3.9.16"
  },
  "orig_nbformat": 4
 },
 "nbformat": 4,
 "nbformat_minor": 2
}
